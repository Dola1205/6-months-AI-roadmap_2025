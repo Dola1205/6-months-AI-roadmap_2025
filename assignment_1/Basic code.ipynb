{
 "cells": [
  {
   "cell_type": "markdown",
   "id": "023fa67c-8509-48c1-b8f1-c0a878963530",
   "metadata": {},
   "source": [
    "**Introduction to python**"
   ]
  },
  {
   "cell_type": "code",
   "execution_count": 1,
   "id": "c5e2eb70-9cd7-46eb-a47c-e098cec150aa",
   "metadata": {},
   "outputs": [
    {
     "name": "stdout",
     "output_type": "stream",
     "text": [
      "7\n",
      "3\n",
      "10\n",
      "2.5\n",
      "2\n",
      "1\n"
     ]
    }
   ],
   "source": [
    "print(5+2) # addition\n",
    "print(5-2) # substraction\n",
    "print(5*2) # multiplication\n",
    "print(5/2) # division\n",
    "print(5//2) # floor division\n",
    "print(5%2) # modulous"
   ]
  },
  {
   "cell_type": "code",
   "execution_count": 2,
   "id": "38a4091b-150d-43fa-90ec-27b899e41033",
   "metadata": {},
   "outputs": [
    {
     "name": "stdout",
     "output_type": "stream",
     "text": [
      "<class 'int'>\n",
      "<class 'float'>\n",
      "<class 'complex'>\n",
      "<class 'str'>\n",
      "<class 'list'>\n",
      "<class 'tuple'>\n",
      "<class 'set'>\n",
      "<class 'dict'>\n",
      "<class 'bool'>\n",
      "<class 'bool'>\n"
     ]
    }
   ],
   "source": [
    "print(type(10)) #integer\n",
    "print(type(3.4)) #float\n",
    "print(type(1+2j)) #complex\n",
    "print(type('nit')) #string\n",
    "print(type([1,2,3])) #list\n",
    "print(type((1,2,3,4))) #tuple\n",
    "print(type({1,2,3})) #set\n",
    "print(type({'name':'nit'})) #dictionary\n",
    "print(type(2==2)) #bool\n",
    "print(type(2>2)) #bool\n"
   ]
  },
  {
   "cell_type": "code",
   "execution_count": 3,
   "id": "c08e4624-b64d-422c-bb1c-21b2ab2310b2",
   "metadata": {},
   "outputs": [
    {
     "name": "stdout",
     "output_type": "stream",
     "text": [
      "<class 'bool'>\n",
      "<class 'bool'>\n"
     ]
    }
   ],
   "source": [
    "print(type(True)) #bool\n",
    "print(type(False)) #bool"
   ]
  },
  {
   "cell_type": "code",
   "execution_count": null,
   "id": "b59c4154-da8b-4805-bb03-c22a7b84ceb3",
   "metadata": {},
   "outputs": [],
   "source": []
  }
 ],
 "metadata": {
  "kernelspec": {
   "display_name": "Python 3 (ipykernel)",
   "language": "python",
   "name": "python3"
  },
  "language_info": {
   "codemirror_mode": {
    "name": "ipython",
    "version": 3
   },
   "file_extension": ".py",
   "mimetype": "text/x-python",
   "name": "python",
   "nbconvert_exporter": "python",
   "pygments_lexer": "ipython3",
   "version": "3.12.7"
  }
 },
 "nbformat": 4,
 "nbformat_minor": 5
}
