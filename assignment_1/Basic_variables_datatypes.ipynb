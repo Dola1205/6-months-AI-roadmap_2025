{
 "cells": [
  {
   "cell_type": "markdown",
   "id": "08e9fb60-054f-4dde-a33e-3845db532acd",
   "metadata": {},
   "source": [
    "# Simple Numbers"
   ]
  },
  {
   "cell_type": "markdown",
   "id": "0e56e6c0-894f-4658-9e05-e117b2f7fd40",
   "metadata": {},
   "source": [
    "4"
   ]
  },
  {
   "cell_type": "code",
   "execution_count": 3,
   "id": "cf0d1902-f5b6-4f48-804a-680e0055b767",
   "metadata": {},
   "outputs": [
    {
     "data": {
      "text/plain": [
       "8"
      ]
     },
     "execution_count": 3,
     "metadata": {},
     "output_type": "execute_result"
    }
   ],
   "source": [
    "4+4 #addition"
   ]
  },
  {
   "cell_type": "code",
   "execution_count": 4,
   "id": "def92fee-957f-4b07-b3d9-868497288840",
   "metadata": {},
   "outputs": [
    {
     "data": {
      "text/plain": [
       "1"
      ]
     },
     "execution_count": 4,
     "metadata": {},
     "output_type": "execute_result"
    }
   ],
   "source": [
    "4-3 #substraction"
   ]
  },
  {
   "cell_type": "code",
   "execution_count": 5,
   "id": "b59fd115-2cc1-4b25-95fe-5e809b2c26e4",
   "metadata": {},
   "outputs": [
    {
     "data": {
      "text/plain": [
       "12"
      ]
     },
     "execution_count": 5,
     "metadata": {},
     "output_type": "execute_result"
    }
   ],
   "source": [
    "4*3 #multiplication\n"
   ]
  },
  {
   "cell_type": "code",
   "execution_count": 6,
   "id": "014a0395-cfef-4838-86be-e27968ad8be3",
   "metadata": {},
   "outputs": [
    {
     "data": {
      "text/plain": [
       "1.3333333333333333"
      ]
     },
     "execution_count": 6,
     "metadata": {},
     "output_type": "execute_result"
    }
   ],
   "source": [
    "4/3 #division"
   ]
  },
  {
   "cell_type": "code",
   "execution_count": 7,
   "id": "492f9ee9-9e9c-41c7-aab7-44155807804e",
   "metadata": {},
   "outputs": [
    {
     "data": {
      "text/plain": [
       "1"
      ]
     },
     "execution_count": 7,
     "metadata": {},
     "output_type": "execute_result"
    }
   ],
   "source": [
    "4//3 #floor division"
   ]
  },
  {
   "cell_type": "code",
   "execution_count": 8,
   "id": "70a819e6-53b0-426c-a255-73493726f47d",
   "metadata": {},
   "outputs": [
    {
     "data": {
      "text/plain": [
       "4"
      ]
     },
     "execution_count": 8,
     "metadata": {},
     "output_type": "execute_result"
    }
   ],
   "source": [
    "4%5 #modulous"
   ]
  },
  {
   "cell_type": "markdown",
   "id": "6c04edf4-c432-4b0b-bb67-29c647dab5d7",
   "metadata": {},
   "source": [
    "# Number are operatnds and + _ * / are operators "
   ]
  },
  {
   "cell_type": "markdown",
   "id": "f623a910-861e-40c2-ab04-b19a955754ec",
   "metadata": {},
   "source": [
    "**what are the different operators**\n"
   ]
  },
  {
   "cell_type": "markdown",
   "id": "37781b33-2d97-4e55-8358-4ea06c3c369a",
   "metadata": {},
   "source": [
    "- arthmetic operator\n",
    "- assignment operator\n",
    "- rational operator\n",
    "- logical operator\n",
    "- logical operator\n",
    "- unary operator"
   ]
  },
  {
   "cell_type": "code",
   "execution_count": 9,
   "id": "e786f97f-395b-4178-be56-236e1a4d48e3",
   "metadata": {},
   "outputs": [
    {
     "data": {
      "text/plain": [
       "15"
      ]
     },
     "execution_count": 9,
     "metadata": {},
     "output_type": "execute_result"
    }
   ],
   "source": [
    " 10+5 "
   ]
  },
  {
   "cell_type": "code",
   "execution_count": 10,
   "id": "3a68e63d-1418-4fe4-af63-4d59e0413ccf",
   "metadata": {},
   "outputs": [
    {
     "data": {
      "text/plain": [
       "5"
      ]
     },
     "execution_count": 10,
     "metadata": {},
     "output_type": "execute_result"
    }
   ],
   "source": [
    "10-5"
   ]
  },
  {
   "cell_type": "code",
   "execution_count": 11,
   "id": "8e20d228-816e-46b3-aa39-08853722ac17",
   "metadata": {},
   "outputs": [
    {
     "data": {
      "text/plain": [
       "50"
      ]
     },
     "execution_count": 11,
     "metadata": {},
     "output_type": "execute_result"
    }
   ],
   "source": [
    "10*5"
   ]
  },
  {
   "cell_type": "code",
   "execution_count": 12,
   "id": "7564693b-7d39-4e0a-94bb-35c2ab69a46f",
   "metadata": {},
   "outputs": [
    {
     "data": {
      "text/plain": [
       "2.0"
      ]
     },
     "execution_count": 12,
     "metadata": {},
     "output_type": "execute_result"
    }
   ],
   "source": [
    "10/5"
   ]
  },
  {
   "cell_type": "code",
   "execution_count": 15,
   "id": "67b85eb1-9440-4465-a7cf-85b3f49a6df6",
   "metadata": {},
   "outputs": [
    {
     "data": {
      "text/plain": [
       "100000"
      ]
     },
     "execution_count": 15,
     "metadata": {},
     "output_type": "execute_result"
    }
   ],
   "source": [
    "10**5"
   ]
  },
  {
   "cell_type": "markdown",
   "id": "598f1117-23cf-4cc5-a60d-4a6dece0b0fd",
   "metadata": {},
   "source": [
    "**Assignment operator**"
   ]
  },
  {
   "cell_type": "code",
   "execution_count": 36,
   "id": "b9dfaa9d-29ad-411c-b608-61ba6c882555",
   "metadata": {},
   "outputs": [
    {
     "data": {
      "text/plain": [
       "10"
      ]
     },
     "execution_count": 36,
     "metadata": {},
     "output_type": "execute_result"
    }
   ],
   "source": [
    "x=10\n",
    "x"
   ]
  },
  {
   "cell_type": "code",
   "execution_count": 37,
   "id": "ec656a46-e54e-4427-b219-9d4086243565",
   "metadata": {},
   "outputs": [
    {
     "data": {
      "text/plain": [
       "12"
      ]
     },
     "execution_count": 37,
     "metadata": {},
     "output_type": "execute_result"
    }
   ],
   "source": [
    "x+2"
   ]
  },
  {
   "cell_type": "code",
   "execution_count": 39,
   "id": "831f82af-7d35-4905-8f47-56a746c1a20f",
   "metadata": {},
   "outputs": [
    {
     "data": {
      "text/plain": [
       "14"
      ]
     },
     "execution_count": 39,
     "metadata": {},
     "output_type": "execute_result"
    }
   ],
   "source": [
    "x+=2\n",
    "x"
   ]
  },
  {
   "cell_type": "code",
   "execution_count": 40,
   "id": "86075be1-47d5-4bef-8c23-b024560927ff",
   "metadata": {},
   "outputs": [
    {
     "data": {
      "text/plain": [
       "12"
      ]
     },
     "execution_count": 40,
     "metadata": {},
     "output_type": "execute_result"
    }
   ],
   "source": [
    "x-=2\n",
    "x"
   ]
  },
  {
   "cell_type": "code",
   "execution_count": 41,
   "id": "1352eaf0-13dd-4fe0-aa9d-a9710613e591",
   "metadata": {},
   "outputs": [
    {
     "data": {
      "text/plain": [
       "24"
      ]
     },
     "execution_count": 41,
     "metadata": {},
     "output_type": "execute_result"
    }
   ],
   "source": [
    "x*=2\n",
    "x\n"
   ]
  },
  {
   "cell_type": "code",
   "execution_count": 42,
   "id": "2b04f96d-2b3d-4bed-bc7a-f39f3954cd75",
   "metadata": {},
   "outputs": [
    {
     "data": {
      "text/plain": [
       "12.0"
      ]
     },
     "execution_count": 42,
     "metadata": {},
     "output_type": "execute_result"
    }
   ],
   "source": [
    "x/=2\n",
    "x\n"
   ]
  },
  {
   "cell_type": "markdown",
   "id": "d8cd36bf-dd76-4abe-85fb-a64e2563255c",
   "metadata": {},
   "source": [
    "**unary operator**"
   ]
  },
  {
   "cell_type": "code",
   "execution_count": 43,
   "id": "70bce123-1f4a-422b-bb45-aa786efbc8e9",
   "metadata": {},
   "outputs": [
    {
     "data": {
      "text/plain": [
       "5"
      ]
     },
     "execution_count": 43,
     "metadata": {},
     "output_type": "execute_result"
    }
   ],
   "source": [
    "a=5\n",
    "a"
   ]
  },
  {
   "cell_type": "code",
   "execution_count": 44,
   "id": "d0ffe6fd-0383-4157-8eae-c9a4526e1a06",
   "metadata": {},
   "outputs": [
    {
     "data": {
      "text/plain": [
       "-5"
      ]
     },
     "execution_count": 44,
     "metadata": {},
     "output_type": "execute_result"
    }
   ],
   "source": [
    "b=-a\n",
    "b"
   ]
  },
  {
   "cell_type": "code",
   "execution_count": 45,
   "id": "e5927e6b-db24-4814-8dcc-0d1666611f88",
   "metadata": {},
   "outputs": [
    {
     "data": {
      "text/plain": [
       "123"
      ]
     },
     "execution_count": 45,
     "metadata": {},
     "output_type": "execute_result"
    }
   ],
   "source": [
    "a=123\n",
    "a"
   ]
  },
  {
   "cell_type": "code",
   "execution_count": 46,
   "id": "820e1464-6811-444d-bd05-5ebd0ae6fd7b",
   "metadata": {},
   "outputs": [
    {
     "data": {
      "text/plain": [
       "int"
      ]
     },
     "execution_count": 46,
     "metadata": {},
     "output_type": "execute_result"
    }
   ],
   "source": [
    "type(a)"
   ]
  },
  {
   "cell_type": "code",
   "execution_count": 47,
   "id": "1c6e899c-3eec-40f7-b5fc-c9a9cdf9e7e0",
   "metadata": {},
   "outputs": [
    {
     "data": {
      "text/plain": [
       "['False',\n",
       " 'None',\n",
       " 'True',\n",
       " 'and',\n",
       " 'as',\n",
       " 'assert',\n",
       " 'async',\n",
       " 'await',\n",
       " 'break',\n",
       " 'class',\n",
       " 'continue',\n",
       " 'def',\n",
       " 'del',\n",
       " 'elif',\n",
       " 'else',\n",
       " 'except',\n",
       " 'finally',\n",
       " 'for',\n",
       " 'from',\n",
       " 'global',\n",
       " 'if',\n",
       " 'import',\n",
       " 'in',\n",
       " 'is',\n",
       " 'lambda',\n",
       " 'nonlocal',\n",
       " 'not',\n",
       " 'or',\n",
       " 'pass',\n",
       " 'raise',\n",
       " 'return',\n",
       " 'try',\n",
       " 'while',\n",
       " 'with',\n",
       " 'yield']"
      ]
     },
     "execution_count": 47,
     "metadata": {},
     "output_type": "execute_result"
    }
   ],
   "source": [
    "import keyword\n",
    "keyword.kwlist"
   ]
  },
  {
   "cell_type": "code",
   "execution_count": 49,
   "id": "82f42078-45ca-46b9-8d79-7bd24bcd6393",
   "metadata": {},
   "outputs": [
    {
     "data": {
      "text/plain": [
       "35"
      ]
     },
     "execution_count": 49,
     "metadata": {},
     "output_type": "execute_result"
    }
   ],
   "source": [
    "len(keyword.kwlist)"
   ]
  },
  {
   "cell_type": "code",
   "execution_count": 50,
   "id": "5704d52f-f0a7-4f66-8de8-38dc5c1d8f91",
   "metadata": {},
   "outputs": [
    {
     "data": {
      "text/plain": [
       "'3.12.7 | packaged by Anaconda, Inc. | (main, Oct  4 2024, 13:17:27) [MSC v.1929 64 bit (AMD64)]'"
      ]
     },
     "execution_count": 50,
     "metadata": {},
     "output_type": "execute_result"
    }
   ],
   "source": [
    "import sys\n",
    "sys.version"
   ]
  },
  {
   "cell_type": "code",
   "execution_count": 51,
   "id": "1b9aaada-0f9d-4fd9-b9a5-4d03a2dca579",
   "metadata": {},
   "outputs": [
    {
     "name": "stdout",
     "output_type": "stream",
     "text": [
      "10\n"
     ]
    }
   ],
   "source": [
    "a=10\n",
    "print(a)"
   ]
  },
  {
   "cell_type": "code",
   "execution_count": 52,
   "id": "ba842f28-9a82-4b11-a34e-6f9672e72252",
   "metadata": {},
   "outputs": [
    {
     "name": "stdout",
     "output_type": "stream",
     "text": [
      "work\n"
     ]
    }
   ],
   "source": [
    "a='work'\n",
    "print(a)"
   ]
  },
  {
   "cell_type": "markdown",
   "id": "55e974ea-fddb-4ff9-ba3f-f962288594bd",
   "metadata": {},
   "source": [
    "**Python Data Types**"
   ]
  },
  {
   "cell_type": "markdown",
   "id": "a516608c-75ad-4e7c-bc3a-4151be8347ad",
   "metadata": {},
   "source": [
    "- integer\n",
    "- float\n",
    "- complex\n",
    "- string\n",
    "- boolean"
   ]
  },
  {
   "cell_type": "code",
   "execution_count": 64,
   "id": "77db4465-e957-4662-8977-81c511aa00df",
   "metadata": {},
   "outputs": [
    {
     "name": "stdout",
     "output_type": "stream",
     "text": [
      "25\n"
     ]
    },
    {
     "data": {
      "text/plain": [
       "int"
      ]
     },
     "execution_count": 64,
     "metadata": {},
     "output_type": "execute_result"
    }
   ],
   "source": [
    "a=25\n",
    "print(a)\n",
    "type(a)"
   ]
  },
  {
   "cell_type": "code",
   "execution_count": 56,
   "id": "315c53a9-b9c7-4437-863d-4761f99afd8d",
   "metadata": {},
   "outputs": [
    {
     "data": {
      "text/plain": [
       "float"
      ]
     },
     "execution_count": 56,
     "metadata": {},
     "output_type": "execute_result"
    }
   ],
   "source": [
    "type(a)"
   ]
  },
  {
   "cell_type": "code",
   "execution_count": 59,
   "id": "a5347efd-2325-4383-8331-eb5a935de5b7",
   "metadata": {},
   "outputs": [
    {
     "data": {
      "text/plain": [
       "(1+2j)"
      ]
     },
     "execution_count": 59,
     "metadata": {},
     "output_type": "execute_result"
    }
   ],
   "source": [
    "a=1+2j\n",
    "a"
   ]
  },
  {
   "cell_type": "code",
   "execution_count": 60,
   "id": "fbadb28e-ce42-4d3e-80d3-06f2ca0797ba",
   "metadata": {},
   "outputs": [
    {
     "data": {
      "text/plain": [
       "complex"
      ]
     },
     "execution_count": 60,
     "metadata": {},
     "output_type": "execute_result"
    }
   ],
   "source": [
    "type(a)"
   ]
  },
  {
   "cell_type": "code",
   "execution_count": 65,
   "id": "08d082c1-67be-459f-8a58-2cc6b85611e9",
   "metadata": {},
   "outputs": [
    {
     "name": "stdout",
     "output_type": "stream",
     "text": [
      "nit\n"
     ]
    }
   ],
   "source": [
    "a='nit'\n",
    "print(a)"
   ]
  },
  {
   "cell_type": "code",
   "execution_count": 62,
   "id": "316fec4f-0286-403f-92ca-5fef7026a8f6",
   "metadata": {},
   "outputs": [
    {
     "data": {
      "text/plain": [
       "str"
      ]
     },
     "execution_count": 62,
     "metadata": {},
     "output_type": "execute_result"
    }
   ],
   "source": [
    "type(a)"
   ]
  },
  {
   "cell_type": "markdown",
   "id": "bc2310fa-69b6-42a7-8ca2-84efde5d19f4",
   "metadata": {},
   "source": [
    "# float"
   ]
  },
  {
   "cell_type": "code",
   "execution_count": 2,
   "id": "f6fb788b-1081-4136-b14a-f98cf44be126",
   "metadata": {},
   "outputs": [
    {
     "data": {
      "text/plain": [
       "98.6"
      ]
     },
     "execution_count": 2,
     "metadata": {},
     "output_type": "execute_result"
    }
   ],
   "source": [
    "temp=98.6\n",
    "temp"
   ]
  },
  {
   "cell_type": "markdown",
   "id": "d35c009f-68eb-4971-b182-91340654f832",
   "metadata": {},
   "source": [
    "# String"
   ]
  },
  {
   "cell_type": "code",
   "execution_count": 3,
   "id": "3cd04209-ca9a-4cee-9530-fc48fba13a9f",
   "metadata": {},
   "outputs": [
    {
     "ename": "NameError",
     "evalue": "name 'hyderabad' is not defined",
     "output_type": "error",
     "traceback": [
      "\u001b[1;31m---------------------------------------------------------------------------\u001b[0m",
      "\u001b[1;31mNameError\u001b[0m                                 Traceback (most recent call last)",
      "Cell \u001b[1;32mIn[3], line 1\u001b[0m\n\u001b[1;32m----> 1\u001b[0m s\u001b[38;5;241m=\u001b[39m\u001b[43mhyderabad\u001b[49m\n\u001b[0;32m      2\u001b[0m s\n",
      "\u001b[1;31mNameError\u001b[0m: name 'hyderabad' is not defined"
     ]
    }
   ],
   "source": [
    "s=hyderabad\n",
    "s"
   ]
  },
  {
   "cell_type": "code",
   "execution_count": 4,
   "id": "7f4d5351-7fb6-4367-9e71-37fa54aded07",
   "metadata": {},
   "outputs": [
    {
     "data": {
      "text/plain": [
       "'hyderabad'"
      ]
     },
     "execution_count": 4,
     "metadata": {},
     "output_type": "execute_result"
    }
   ],
   "source": [
    "s='hyderabad' #single quote declaration\n",
    "s"
   ]
  },
  {
   "cell_type": "code",
   "execution_count": 7,
   "id": "b22d4e59-795a-4bc9-ab29-e5d030f7a0c7",
   "metadata": {},
   "outputs": [
    {
     "data": {
      "text/plain": [
       "str"
      ]
     },
     "execution_count": 7,
     "metadata": {},
     "output_type": "execute_result"
    }
   ],
   "source": [
    "type(s)"
   ]
  },
  {
   "cell_type": "code",
   "execution_count": 8,
   "id": "9579a7e1-6f28-421e-bccf-5f61a83fbb83",
   "metadata": {},
   "outputs": [
    {
     "data": {
      "text/plain": [
       "'nit'"
      ]
     },
     "execution_count": 8,
     "metadata": {},
     "output_type": "execute_result"
    }
   ],
   "source": [
    "s1=\"nit\"\n",
    "s1"
   ]
  },
  {
   "cell_type": "code",
   "execution_count": 9,
   "id": "c79cc0fe-1aab-492b-85ac-4542d1927e1c",
   "metadata": {},
   "outputs": [
    {
     "data": {
      "text/plain": [
       "'the cat eats a fish'"
      ]
     },
     "execution_count": 9,
     "metadata": {},
     "output_type": "execute_result"
    }
   ],
   "source": [
    "s2='''the cat eats a fish''' # multiline string\n",
    "s2"
   ]
  },
  {
   "cell_type": "code",
   "execution_count": 10,
   "id": "0360cca9-a553-440f-9ca3-b89c7a1778f7",
   "metadata": {},
   "outputs": [
    {
     "data": {
      "text/plain": [
       "str"
      ]
     },
     "execution_count": 10,
     "metadata": {},
     "output_type": "execute_result"
    }
   ],
   "source": [
    "type(s2)"
   ]
  },
  {
   "cell_type": "code",
   "execution_count": 11,
   "id": "574a4b72-1ca2-4e8d-b3e6-bcab9479c6f9",
   "metadata": {},
   "outputs": [
    {
     "name": "stdout",
     "output_type": "stream",
     "text": [
      "<class 'str'>\n"
     ]
    }
   ],
   "source": [
    "print(type(s1))"
   ]
  },
  {
   "cell_type": "code",
   "execution_count": 13,
   "id": "e79f3d7d-9bad-4654-9236-84491badddd5",
   "metadata": {},
   "outputs": [
    {
     "data": {
      "text/plain": [
       "'t'"
      ]
     },
     "execution_count": 13,
     "metadata": {},
     "output_type": "execute_result"
    }
   ],
   "source": [
    "s2[6]"
   ]
  },
  {
   "cell_type": "code",
   "execution_count": 14,
   "id": "6f51ae66-a254-4fb3-a44e-411c89d2a0ee",
   "metadata": {},
   "outputs": [
    {
     "data": {
      "text/plain": [
       "'h'"
      ]
     },
     "execution_count": 14,
     "metadata": {},
     "output_type": "execute_result"
    }
   ],
   "source": [
    "s2[-1]\n"
   ]
  },
  {
   "cell_type": "code",
   "execution_count": 16,
   "id": "72be235a-38e6-4f7c-bcf5-b27f0b77de1b",
   "metadata": {},
   "outputs": [
    {
     "data": {
      "text/plain": [
       "'e'"
      ]
     },
     "execution_count": 16,
     "metadata": {},
     "output_type": "execute_result"
    }
   ],
   "source": [
    "s2[2:3]"
   ]
  },
  {
   "cell_type": "markdown",
   "id": "7ba60d9e-7082-4527-97d8-eb1fcad2ccf8",
   "metadata": {},
   "source": [
    "# Boolean"
   ]
  },
  {
   "cell_type": "code",
   "execution_count": 1,
   "id": "374b4578-9fbe-417f-95fe-ed5244a6c2f7",
   "metadata": {},
   "outputs": [
    {
     "ename": "NameError",
     "evalue": "name 'true' is not defined",
     "output_type": "error",
     "traceback": [
      "\u001b[1;31m---------------------------------------------------------------------------\u001b[0m",
      "\u001b[1;31mNameError\u001b[0m                                 Traceback (most recent call last)",
      "Cell \u001b[1;32mIn[1], line 1\u001b[0m\n\u001b[1;32m----> 1\u001b[0m \u001b[43mtrue\u001b[49m\n",
      "\u001b[1;31mNameError\u001b[0m: name 'true' is not defined"
     ]
    }
   ],
   "source": [
    "true  #boolean is a case sensitive"
   ]
  },
  {
   "cell_type": "code",
   "execution_count": 2,
   "id": "b8171071-dfbd-4724-9617-0e0cc0337262",
   "metadata": {},
   "outputs": [
    {
     "data": {
      "text/plain": [
       "True"
      ]
     },
     "execution_count": 2,
     "metadata": {},
     "output_type": "execute_result"
    }
   ],
   "source": [
    "True"
   ]
  },
  {
   "cell_type": "code",
   "execution_count": 3,
   "id": "a8bd18b6-421d-4c48-b7c9-7f5d8333c608",
   "metadata": {},
   "outputs": [
    {
     "data": {
      "text/plain": [
       "False"
      ]
     },
     "execution_count": 3,
     "metadata": {},
     "output_type": "execute_result"
    }
   ],
   "source": [
    "False"
   ]
  },
  {
   "cell_type": "code",
   "execution_count": 4,
   "id": "ac5ad2c5-641e-412a-a2a7-302653fcd87c",
   "metadata": {},
   "outputs": [
    {
     "data": {
      "text/plain": [
       "True"
      ]
     },
     "execution_count": 4,
     "metadata": {},
     "output_type": "execute_result"
    }
   ],
   "source": [
    "b= True\n",
    "b"
   ]
  },
  {
   "cell_type": "markdown",
   "id": "4f6895be-5e2f-4faa-ac29-35044f25ccc1",
   "metadata": {},
   "source": [
    "# Complex Data type"
   ]
  },
  {
   "cell_type": "code",
   "execution_count": 5,
   "id": "746a5c6a-78b7-4bdb-8e41-de5742e7b049",
   "metadata": {},
   "outputs": [],
   "source": [
    "a=1+2j"
   ]
  },
  {
   "cell_type": "code",
   "execution_count": 6,
   "id": "4c8255f8-bf27-4ee2-b715-dd448d7a0c98",
   "metadata": {},
   "outputs": [
    {
     "data": {
      "text/plain": [
       "(1+2j)"
      ]
     },
     "execution_count": 6,
     "metadata": {},
     "output_type": "execute_result"
    }
   ],
   "source": [
    "a"
   ]
  },
  {
   "cell_type": "code",
   "execution_count": 7,
   "id": "e512000e-e88f-461f-a1fb-4b167261ea3e",
   "metadata": {},
   "outputs": [
    {
     "data": {
      "text/plain": [
       "complex"
      ]
     },
     "execution_count": 7,
     "metadata": {},
     "output_type": "execute_result"
    }
   ],
   "source": [
    "type(a)"
   ]
  },
  {
   "cell_type": "code",
   "execution_count": 8,
   "id": "bf7ee11d-c4be-418e-a499-b5df80580a78",
   "metadata": {},
   "outputs": [
    {
     "name": "stdout",
     "output_type": "stream",
     "text": [
      "<class 'complex'>\n"
     ]
    }
   ],
   "source": [
    "print(type(a))"
   ]
  },
  {
   "cell_type": "code",
   "execution_count": 9,
   "id": "ce8a49e8-05bf-46c6-aa6f-75773b08c07c",
   "metadata": {},
   "outputs": [
    {
     "name": "stdout",
     "output_type": "stream",
     "text": [
      "1.0\n"
     ]
    }
   ],
   "source": [
    "print(a.real)"
   ]
  },
  {
   "cell_type": "code",
   "execution_count": 11,
   "id": "17945a3d-5ddc-4616-b303-21a3e0241e6b",
   "metadata": {},
   "outputs": [
    {
     "name": "stdout",
     "output_type": "stream",
     "text": [
      "2.0\n"
     ]
    }
   ],
   "source": [
    "print(a.imag)"
   ]
  },
  {
   "cell_type": "markdown",
   "id": "e21e7fb4-2298-4c3e-8fff-32ddefeb22ec",
   "metadata": {},
   "source": [
    "# type casting"
   ]
  },
  {
   "cell_type": "code",
   "execution_count": 12,
   "id": "331b34dd-1141-44ea-af1c-a9c06dd138e9",
   "metadata": {},
   "outputs": [
    {
     "name": "stdout",
     "output_type": "stream",
     "text": [
      "20\n",
      "1\n",
      "25\n",
      "1\n",
      "20\n"
     ]
    }
   ],
   "source": [
    "print(int(20))\n",
    "print(int(1.2))\n",
    "print(int(25))\n",
    "print(int(True))\n",
    "print(int('20'))"
   ]
  },
  {
   "cell_type": "code",
   "execution_count": 13,
   "id": "f97aa819-545a-4172-87c7-eb8350452001",
   "metadata": {},
   "outputs": [
    {
     "name": "stdout",
     "output_type": "stream",
     "text": [
      "True\n",
      "True\n",
      "True\n",
      "False\n",
      "True\n"
     ]
    }
   ],
   "source": [
    "print(bool(1+2j))\n",
    "print(bool(1.2))\n",
    "print(bool(25))\n",
    "print(bool(True==False))\n",
    "print(bool('20'))"
   ]
  },
  {
   "cell_type": "code",
   "execution_count": null,
   "id": "f62d699e-b184-4350-8be0-692a02b1054c",
   "metadata": {},
   "outputs": [],
   "source": []
  }
 ],
 "metadata": {
  "kernelspec": {
   "display_name": "Python 3 (ipykernel)",
   "language": "python",
   "name": "python3"
  },
  "language_info": {
   "codemirror_mode": {
    "name": "ipython",
    "version": 3
   },
   "file_extension": ".py",
   "mimetype": "text/x-python",
   "name": "python",
   "nbconvert_exporter": "python",
   "pygments_lexer": "ipython3",
   "version": "3.12.7"
  }
 },
 "nbformat": 4,
 "nbformat_minor": 5
}
