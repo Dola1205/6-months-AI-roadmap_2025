{
 "cells": [
  {
   "cell_type": "markdown",
   "id": "520faf75-80b3-4b55-b7a1-a9b6e40ce571",
   "metadata": {},
   "source": [
    "# Operators"
   ]
  },
  {
   "cell_type": "markdown",
   "id": "dd2858ed-6755-41e4-9375-b6a18d3bf8e2",
   "metadata": {},
   "source": [
    "- airthmetic operations"
   ]
  },
  {
   "cell_type": "code",
   "execution_count": 4,
   "id": "2ae6b06c-342c-4802-bf1f-05523af8eb7f",
   "metadata": {},
   "outputs": [
    {
     "name": "stdout",
     "output_type": "stream",
     "text": [
      "Addition - 7\n",
      "Substraction - 2\n",
      "multiplication - 10\n",
      "Division - 2.0\n",
      "Division - 3.5\n",
      "Division - 3\n",
      "Modulous - 1\n",
      "Exponential - 81\n"
     ]
    }
   ],
   "source": [
    "print('Addition -', 3+4)\n",
    "print('Substraction -', 6-4)\n",
    "print('multiplication -', 2*5)\n",
    "print('Division -', 4/2)\n",
    "print('Division -', 7/2)\n",
    "print('Division -', 7//2)\n",
    "print('Modulous -', 15%2)\n",
    "print('Exponential -', 3**4)"
   ]
  },
  {
   "cell_type": "code",
   "execution_count": 5,
   "id": "08d9e921-4a6b-4b57-b4b1-4177d656d607",
   "metadata": {},
   "outputs": [
    {
     "name": "stdout",
     "output_type": "stream",
     "text": [
      "total 7\n",
      "difference 3\n",
      "product 10\n",
      "division 2.5\n",
      "floor division 2\n",
      "reminder 1\n",
      "exponential 25\n"
     ]
    }
   ],
   "source": [
    "a = 5\n",
    "b = 2\n",
    "\n",
    "total = a + b\n",
    "difference = a -b\n",
    "product = a * b\n",
    "division = a/ b\n",
    "floor_division = a//b\n",
    "remainder = a%b\n",
    "exponential = a **b\n",
    "\n",
    "print('total', total)\n",
    "print('difference', difference)\n",
    "print('product',product)\n",
    "print('division', division)\n",
    "print('floor division', floor_division)\n",
    "print('reminder', remainder)\n",
    "print('exponential', exponential)"
   ]
  },
  {
   "cell_type": "code",
   "execution_count": 9,
   "id": "79eb71af-8900-44f3-8456-9bd60df6092e",
   "metadata": {},
   "outputs": [
    {
     "name": "stdout",
     "output_type": "stream",
     "text": [
      "28.26\n"
     ]
    }
   ],
   "source": [
    "radius=3\n",
    "areaofcircle=3.14*3**2\n",
    "print(areaofcircle)"
   ]
  },
  {
   "cell_type": "code",
   "execution_count": 11,
   "id": "35690733-ad0d-4910-be29-8ee8601f5e73",
   "metadata": {},
   "outputs": [
    {
     "name": "stdout",
     "output_type": "stream",
     "text": [
      "28.259999999999998\n"
     ]
    }
   ],
   "source": [
    "perimeterofcircle=3*3.14*radius\n",
    "print(perimeterofcircle)"
   ]
  },
  {
   "cell_type": "code",
   "execution_count": 13,
   "id": "54112d83-93b5-429c-a997-bd29c24e31a9",
   "metadata": {},
   "outputs": [
    {
     "name": "stdout",
     "output_type": "stream",
     "text": [
      "375\n"
     ]
    }
   ],
   "source": [
    "length=25\n",
    "width=15\n",
    "areaoftriangle=length*width\n",
    "print(areaoftriangle)"
   ]
  },
  {
   "cell_type": "code",
   "execution_count": 15,
   "id": "d0c61794-15ea-4482-9550-19148b4ec218",
   "metadata": {},
   "outputs": [
    {
     "name": "stdout",
     "output_type": "stream",
     "text": [
      "True\n",
      "False\n",
      "False\n",
      "True\n",
      "True\n",
      "False\n"
     ]
    }
   ],
   "source": [
    "print(5>3)\n",
    "print(5<3)\n",
    "print(5==3)\n",
    "print(5!=2)\n",
    "print(5>=3)\n",
    "print(5<=3)"
   ]
  },
  {
   "cell_type": "code",
   "execution_count": null,
   "id": "9e5a3fb7-6553-401d-af2f-e068a3513d96",
   "metadata": {},
   "outputs": [],
   "source": []
  }
 ],
 "metadata": {
  "kernelspec": {
   "display_name": "Python 3 (ipykernel)",
   "language": "python",
   "name": "python3"
  },
  "language_info": {
   "codemirror_mode": {
    "name": "ipython",
    "version": 3
   },
   "file_extension": ".py",
   "mimetype": "text/x-python",
   "name": "python",
   "nbconvert_exporter": "python",
   "pygments_lexer": "ipython3",
   "version": "3.12.7"
  }
 },
 "nbformat": 4,
 "nbformat_minor": 5
}
