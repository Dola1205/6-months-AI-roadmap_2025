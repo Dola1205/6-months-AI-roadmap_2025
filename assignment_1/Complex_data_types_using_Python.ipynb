{
 "cells": [
  {
   "cell_type": "markdown",
   "id": "8d2859a8-6938-4689-a88a-f0b6b5de83e1",
   "metadata": {},
   "source": [
    "# Complex data types"
   ]
  },
  {
   "cell_type": "code",
   "execution_count": 1,
   "id": "85cc1078-6884-4775-8860-a08c39ded44b",
   "metadata": {},
   "outputs": [
    {
     "data": {
      "text/plain": [
       "(2+4j)"
      ]
     },
     "execution_count": 1,
     "metadata": {},
     "output_type": "execute_result"
    }
   ],
   "source": [
    "z=2+4j\n",
    "z"
   ]
  },
  {
   "cell_type": "code",
   "execution_count": 2,
   "id": "0d05bd4d-487b-4c98-b232-2db29b7c8034",
   "metadata": {},
   "outputs": [
    {
     "name": "stdout",
     "output_type": "stream",
     "text": [
      "2.0\n",
      "4.0\n"
     ]
    }
   ],
   "source": [
    "print(z.real)\n",
    "print(z.imag)"
   ]
  },
  {
   "cell_type": "code",
   "execution_count": 4,
   "id": "6ca079b1-4aff-4fd3-b91b-a1ed6d9f82aa",
   "metadata": {},
   "outputs": [
    {
     "data": {
      "text/plain": [
       "(7+10j)"
      ]
     },
     "execution_count": 4,
     "metadata": {},
     "output_type": "execute_result"
    }
   ],
   "source": [
    "a=2+6j\n",
    "b=5+4j\n",
    "a+b"
   ]
  },
  {
   "cell_type": "code",
   "execution_count": 5,
   "id": "7842e264-91c6-45f1-a6c0-4337b3327543",
   "metadata": {},
   "outputs": [
    {
     "data": {
      "text/plain": [
       "(-3+2j)"
      ]
     },
     "execution_count": 5,
     "metadata": {},
     "output_type": "execute_result"
    }
   ],
   "source": [
    "a-b"
   ]
  },
  {
   "cell_type": "code",
   "execution_count": 7,
   "id": "ab137b6d-c954-43fc-b835-47ffd0585ba8",
   "metadata": {},
   "outputs": [
    {
     "data": {
      "text/plain": [
       "(-14+38j)"
      ]
     },
     "execution_count": 7,
     "metadata": {},
     "output_type": "execute_result"
    }
   ],
   "source": [
    "a=2+6j\n",
    "b=5+4j\n",
    "a*b"
   ]
  },
  {
   "cell_type": "code",
   "execution_count": 8,
   "id": "e8fdc056-d6e2-4a1c-b767-9a8c46dd9bab",
   "metadata": {},
   "outputs": [
    {
     "data": {
      "text/plain": [
       "(0.829268292682927+0.5365853658536587j)"
      ]
     },
     "execution_count": 8,
     "metadata": {},
     "output_type": "execute_result"
    }
   ],
   "source": [
    "a/b"
   ]
  },
  {
   "cell_type": "code",
   "execution_count": 9,
   "id": "e224126c-bb58-42ee-9f85-5f53054b5dd6",
   "metadata": {},
   "outputs": [
    {
     "name": "stdout",
     "output_type": "stream",
     "text": [
      "4.47213595499958\n"
     ]
    }
   ],
   "source": [
    "print(abs(z))\n"
   ]
  },
  {
   "cell_type": "code",
   "execution_count": 10,
   "id": "ab2d1dba-a137-4596-9eb4-90f2dae891de",
   "metadata": {},
   "outputs": [
    {
     "name": "stdout",
     "output_type": "stream",
     "text": [
      "(2-4j)\n"
     ]
    }
   ],
   "source": [
    "print(z.conjugate())"
   ]
  },
  {
   "cell_type": "code",
   "execution_count": null,
   "id": "16aa0656-7b21-44fa-85d4-6958acef9ccc",
   "metadata": {},
   "outputs": [],
   "source": []
  }
 ],
 "metadata": {
  "kernelspec": {
   "display_name": "Python 3 (ipykernel)",
   "language": "python",
   "name": "python3"
  },
  "language_info": {
   "codemirror_mode": {
    "name": "ipython",
    "version": 3
   },
   "file_extension": ".py",
   "mimetype": "text/x-python",
   "name": "python",
   "nbconvert_exporter": "python",
   "pygments_lexer": "ipython3",
   "version": "3.12.7"
  }
 },
 "nbformat": 4,
 "nbformat_minor": 5
}
