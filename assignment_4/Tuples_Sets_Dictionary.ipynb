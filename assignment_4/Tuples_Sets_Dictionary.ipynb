{
 "cells": [
  {
   "cell_type": "code",
   "execution_count": 1,
   "id": "e07bd248-ad25-43e1-9d73-575f16d3084d",
   "metadata": {},
   "outputs": [],
   "source": [
    "t1=()"
   ]
  },
  {
   "cell_type": "code",
   "execution_count": 2,
   "id": "f2c22caf-f1e8-4b0a-9c9b-795b25dfcb7e",
   "metadata": {},
   "outputs": [],
   "source": [
    "t2=(10,20,30)"
   ]
  },
  {
   "cell_type": "code",
   "execution_count": 3,
   "id": "81cb0504-f563-449e-a5f9-522733efef60",
   "metadata": {},
   "outputs": [],
   "source": [
    "t3=(10.5,3.14,5.68)"
   ]
  },
  {
   "cell_type": "code",
   "execution_count": 5,
   "id": "356c6671-d5c4-47ed-8d1d-976c24113084",
   "metadata": {},
   "outputs": [],
   "source": [
    "t4=('cat','dog','ant')"
   ]
  },
  {
   "cell_type": "code",
   "execution_count": 7,
   "id": "b67080f0-b6e6-45bc-976a-bdb445bd10d6",
   "metadata": {},
   "outputs": [],
   "source": [
    "t5=('nit',10,(10,15),(50,100))\n"
   ]
  },
  {
   "cell_type": "code",
   "execution_count": 8,
   "id": "8977af9f-4d1f-4daa-9b3c-f8f8b9c80f2c",
   "metadata": {},
   "outputs": [],
   "source": [
    "t6=(100,'text',15.68)"
   ]
  },
  {
   "cell_type": "code",
   "execution_count": 10,
   "id": "8f6cb9d0-e165-43e5-98f9-5957a609a503",
   "metadata": {},
   "outputs": [],
   "source": [
    "t7=('dola',10,[20,50],[60,90],{'ravi','kiran'},(9,10,20))\n"
   ]
  },
  {
   "cell_type": "code",
   "execution_count": 11,
   "id": "18c5c04a-8a1c-43d6-a824-32b7d016b4b3",
   "metadata": {},
   "outputs": [
    {
     "data": {
      "text/plain": [
       "6"
      ]
     },
     "execution_count": 11,
     "metadata": {},
     "output_type": "execute_result"
    }
   ],
   "source": [
    "len(t7)"
   ]
  },
  {
   "cell_type": "code",
   "execution_count": 12,
   "id": "3d01a00f-5aff-489b-9b80-1f4bd940cc95",
   "metadata": {},
   "outputs": [
    {
     "data": {
      "text/plain": [
       "4"
      ]
     },
     "execution_count": 12,
     "metadata": {},
     "output_type": "execute_result"
    }
   ],
   "source": [
    "len(t5)"
   ]
  },
  {
   "cell_type": "markdown",
   "id": "2e3036e5-a21c-4289-befc-8faf634068bf",
   "metadata": {},
   "source": [
    "**tuple indexing**"
   ]
  },
  {
   "cell_type": "code",
   "execution_count": 13,
   "id": "8e4aabc8-2eb0-412e-bd64-60ac8bc35ab1",
   "metadata": {},
   "outputs": [
    {
     "data": {
      "text/plain": [
       "(50, 100)"
      ]
     },
     "execution_count": 13,
     "metadata": {},
     "output_type": "execute_result"
    }
   ],
   "source": [
    "t5[3]"
   ]
  },
  {
   "cell_type": "code",
   "execution_count": 14,
   "id": "89a2702c-e620-4785-a8c8-c241f00ccad1",
   "metadata": {},
   "outputs": [
    {
     "data": {
      "text/plain": [
       "'d'"
      ]
     },
     "execution_count": 14,
     "metadata": {},
     "output_type": "execute_result"
    }
   ],
   "source": [
    "t7[0][0]"
   ]
  },
  {
   "cell_type": "code",
   "execution_count": 16,
   "id": "79da582e-3e1e-4900-8a4d-e813308dacd6",
   "metadata": {},
   "outputs": [
    {
     "ename": "TypeError",
     "evalue": "'set' object is not subscriptable",
     "output_type": "error",
     "traceback": [
      "\u001b[1;31m---------------------------------------------------------------------------\u001b[0m",
      "\u001b[1;31mTypeError\u001b[0m                                 Traceback (most recent call last)",
      "Cell \u001b[1;32mIn[16], line 1\u001b[0m\n\u001b[1;32m----> 1\u001b[0m \u001b[43mt7\u001b[49m\u001b[43m[\u001b[49m\u001b[38;5;241;43m4\u001b[39;49m\u001b[43m]\u001b[49m\u001b[43m[\u001b[49m\u001b[38;5;241;43m2\u001b[39;49m\u001b[43m]\u001b[49m\n",
      "\u001b[1;31mTypeError\u001b[0m: 'set' object is not subscriptable"
     ]
    }
   ],
   "source": [
    "t7[4][2]"
   ]
  },
  {
   "cell_type": "code",
   "execution_count": 17,
   "id": "520e712e-891e-4429-b4de-55509d64908f",
   "metadata": {},
   "outputs": [
    {
     "data": {
      "text/plain": [
       "9"
      ]
     },
     "execution_count": 17,
     "metadata": {},
     "output_type": "execute_result"
    }
   ],
   "source": [
    "t7[5][0]"
   ]
  },
  {
   "cell_type": "markdown",
   "id": "4a562e09-5431-475c-85de-b2000c74716c",
   "metadata": {},
   "source": [
    "**tuple slicing**"
   ]
  },
  {
   "cell_type": "code",
   "execution_count": 20,
   "id": "0f0ba174-5d06-46d8-8fcc-17e210f121e5",
   "metadata": {},
   "outputs": [
    {
     "data": {
      "text/plain": [
       "('one', 'two', 'three', 'four', 'five', 'six', 'seven', 'eight', 'nine')"
      ]
     },
     "execution_count": 20,
     "metadata": {},
     "output_type": "execute_result"
    }
   ],
   "source": [
    "tuple=('one','two','three','four','five','six','seven','eight','nine')\n",
    "tuple"
   ]
  },
  {
   "cell_type": "code",
   "execution_count": 21,
   "id": "508b4327-c3ff-428e-9e45-4eb4884bd3d4",
   "metadata": {},
   "outputs": [
    {
     "data": {
      "text/plain": [
       "('one', 'two')"
      ]
     },
     "execution_count": 21,
     "metadata": {},
     "output_type": "execute_result"
    }
   ],
   "source": [
    "tuple[:2]"
   ]
  },
  {
   "cell_type": "code",
   "execution_count": 22,
   "id": "1f43b9ce-4101-464f-baa2-74183a71df70",
   "metadata": {},
   "outputs": [
    {
     "data": {
      "text/plain": [
       "('five', 'six', 'seven', 'eight', 'nine')"
      ]
     },
     "execution_count": 22,
     "metadata": {},
     "output_type": "execute_result"
    }
   ],
   "source": [
    "tuple[4:]"
   ]
  },
  {
   "cell_type": "code",
   "execution_count": 23,
   "id": "f574cd49-3eb0-4036-82cf-802b384e3843",
   "metadata": {},
   "outputs": [
    {
     "data": {
      "text/plain": [
       "'five'"
      ]
     },
     "execution_count": 23,
     "metadata": {},
     "output_type": "execute_result"
    }
   ],
   "source": [
    "tuple[-5]"
   ]
  },
  {
   "cell_type": "code",
   "execution_count": 24,
   "id": "05e6e3ce-ccab-41f9-acf4-a4c10a611614",
   "metadata": {},
   "outputs": [
    {
     "data": {
      "text/plain": [
       "'seven'"
      ]
     },
     "execution_count": 24,
     "metadata": {},
     "output_type": "execute_result"
    }
   ],
   "source": [
    "tuple[-3]"
   ]
  },
  {
   "cell_type": "code",
   "execution_count": 25,
   "id": "98aea511-6af4-4403-8f97-4870a80d1c16",
   "metadata": {},
   "outputs": [
    {
     "ename": "TypeError",
     "evalue": "'tuple' object doesn't support item deletion",
     "output_type": "error",
     "traceback": [
      "\u001b[1;31m---------------------------------------------------------------------------\u001b[0m",
      "\u001b[1;31mTypeError\u001b[0m                                 Traceback (most recent call last)",
      "Cell \u001b[1;32mIn[25], line 1\u001b[0m\n\u001b[1;32m----> 1\u001b[0m \u001b[38;5;28;01mdel\u001b[39;00m \u001b[38;5;28;43mtuple\u001b[39;49m\u001b[43m[\u001b[49m\u001b[38;5;241;43m0\u001b[39;49m\u001b[43m]\u001b[49m\n",
      "\u001b[1;31mTypeError\u001b[0m: 'tuple' object doesn't support item deletion"
     ]
    }
   ],
   "source": [
    "del tuple[0]"
   ]
  },
  {
   "cell_type": "code",
   "execution_count": 26,
   "id": "32be491d-f092-400c-b9c4-ff62d3f4f0e5",
   "metadata": {},
   "outputs": [
    {
     "data": {
      "text/plain": [
       "('one', 'two', 'three', 'four', 'five', 'six', 'seven', 'eight', 'nine')"
      ]
     },
     "execution_count": 26,
     "metadata": {},
     "output_type": "execute_result"
    }
   ],
   "source": [
    "tuple"
   ]
  },
  {
   "cell_type": "code",
   "execution_count": 27,
   "id": "e60d926f-45b9-4098-b750-32f0e6e4e0a1",
   "metadata": {},
   "outputs": [
    {
     "name": "stdout",
     "output_type": "stream",
     "text": [
      "one\n",
      "two\n",
      "three\n",
      "four\n",
      "five\n",
      "six\n",
      "seven\n",
      "eight\n",
      "nine\n"
     ]
    }
   ],
   "source": [
    "for i in tuple:\n",
    "    print(i)"
   ]
  },
  {
   "cell_type": "code",
   "execution_count": 28,
   "id": "2bd0a29e-e638-4292-863a-75b34fc4abdb",
   "metadata": {},
   "outputs": [
    {
     "name": "stdout",
     "output_type": "stream",
     "text": [
      "(0, 'one')\n",
      "(1, 'two')\n",
      "(2, 'three')\n",
      "(3, 'four')\n",
      "(4, 'five')\n",
      "(5, 'six')\n",
      "(6, 'seven')\n",
      "(7, 'eight')\n",
      "(8, 'nine')\n"
     ]
    }
   ],
   "source": [
    "for i in enumerate(tuple):\n",
    "    print(i)\n",
    "    "
   ]
  },
  {
   "cell_type": "code",
   "execution_count": 29,
   "id": "a34f8f88-1246-4904-bd30-25265020bbd1",
   "metadata": {},
   "outputs": [
    {
     "data": {
      "text/plain": [
       "1"
      ]
     },
     "execution_count": 29,
     "metadata": {},
     "output_type": "execute_result"
    }
   ],
   "source": [
    "tuple.count('two')"
   ]
  },
  {
   "cell_type": "code",
   "execution_count": 30,
   "id": "02ce0594-5ea6-4267-986b-f86b70f6a0ef",
   "metadata": {},
   "outputs": [
    {
     "data": {
      "text/plain": [
       "False"
      ]
     },
     "execution_count": 30,
     "metadata": {},
     "output_type": "execute_result"
    }
   ],
   "source": [
    "2 in tuple\n"
   ]
  },
  {
   "cell_type": "markdown",
   "id": "1c743802-b5a3-420b-a6d5-c182b0b02ade",
   "metadata": {},
   "source": [
    "**Index position**"
   ]
  },
  {
   "cell_type": "code",
   "execution_count": 31,
   "id": "b154e4eb-e8e5-419d-945d-6138961d0d11",
   "metadata": {},
   "outputs": [
    {
     "data": {
      "text/plain": [
       "('one', 'two', 'three', 'four', 'five', 'six', 'seven', 'eight', 'nine')"
      ]
     },
     "execution_count": 31,
     "metadata": {},
     "output_type": "execute_result"
    }
   ],
   "source": [
    "tuple"
   ]
  },
  {
   "cell_type": "code",
   "execution_count": 32,
   "id": "ea5691e5-6f5a-4fca-bd01-e2e8092ff5f5",
   "metadata": {},
   "outputs": [
    {
     "data": {
      "text/plain": [
       "6"
      ]
     },
     "execution_count": 32,
     "metadata": {},
     "output_type": "execute_result"
    }
   ],
   "source": [
    "tuple.index('seven')"
   ]
  },
  {
   "cell_type": "markdown",
   "id": "d75f004f-5702-4ad8-a419-941026b55ec3",
   "metadata": {},
   "source": [
    "**sorting**"
   ]
  },
  {
   "cell_type": "code",
   "execution_count": 33,
   "id": "97cb41a0-97ae-4400-9ba5-d706a4f0172c",
   "metadata": {},
   "outputs": [
    {
     "data": {
      "text/plain": [
       "('one', 'two', 'three', 'four', 'five', 'six', 'seven', 'eight', 'nine')"
      ]
     },
     "execution_count": 33,
     "metadata": {},
     "output_type": "execute_result"
    }
   ],
   "source": [
    "tuple"
   ]
  },
  {
   "cell_type": "code",
   "execution_count": 34,
   "id": "47264f49-8c09-4060-add8-ac5a6b7be9ec",
   "metadata": {},
   "outputs": [
    {
     "data": {
      "text/plain": [
       "['eight', 'five', 'four', 'nine', 'one', 'seven', 'six', 'three', 'two']"
      ]
     },
     "execution_count": 34,
     "metadata": {},
     "output_type": "execute_result"
    }
   ],
   "source": [
    "sorted(tuple,reverse=False)"
   ]
  },
  {
   "cell_type": "code",
   "execution_count": 35,
   "id": "40dceaa6-b712-4582-804c-1ba26b11a17f",
   "metadata": {},
   "outputs": [
    {
     "data": {
      "text/plain": [
       "['two', 'three', 'six', 'seven', 'one', 'nine', 'four', 'five', 'eight']"
      ]
     },
     "execution_count": 35,
     "metadata": {},
     "output_type": "execute_result"
    }
   ],
   "source": [
    "sorted(tuple,reverse=True)"
   ]
  },
  {
   "cell_type": "markdown",
   "id": "03b6119d-55cc-42f9-a757-7ba701eeb885",
   "metadata": {},
   "source": [
    "**Sets**"
   ]
  },
  {
   "cell_type": "code",
   "execution_count": 42,
   "id": "8b4967d3-905b-4f44-b433-d7cc1108f25f",
   "metadata": {},
   "outputs": [
    {
     "data": {
      "text/plain": [
       "{1, 2, 3, 4, 5, 6}"
      ]
     },
     "execution_count": 42,
     "metadata": {},
     "output_type": "execute_result"
    }
   ],
   "source": [
    "s={1,2,3,4,5,6}\n",
    "s"
   ]
  },
  {
   "cell_type": "code",
   "execution_count": 37,
   "id": "bd5df409-147c-4485-9eb8-bd3097441d51",
   "metadata": {},
   "outputs": [
    {
     "data": {
      "text/plain": [
       "6"
      ]
     },
     "execution_count": 37,
     "metadata": {},
     "output_type": "execute_result"
    }
   ],
   "source": [
    "len(s)"
   ]
  },
  {
   "cell_type": "code",
   "execution_count": 38,
   "id": "6f80914e-e572-4266-a3d3-9d14d20f9e2f",
   "metadata": {},
   "outputs": [
    {
     "data": {
      "text/plain": [
       "{1, 2, 3, 4, 5}"
      ]
     },
     "execution_count": 38,
     "metadata": {},
     "output_type": "execute_result"
    }
   ],
   "source": [
    "s2={1,2,2,3,3,3,4,5,5}\n",
    "s2"
   ]
  },
  {
   "cell_type": "code",
   "execution_count": 39,
   "id": "61284e4c-8f15-45e5-88c5-44e9ba5228d6",
   "metadata": {},
   "outputs": [
    {
     "data": {
      "text/plain": [
       "5"
      ]
     },
     "execution_count": 39,
     "metadata": {},
     "output_type": "execute_result"
    }
   ],
   "source": [
    "len(s2)"
   ]
  },
  {
   "cell_type": "code",
   "execution_count": 40,
   "id": "a56ffa27-6584-4dcd-a549-62dfa7df5468",
   "metadata": {},
   "outputs": [
    {
     "name": "stdout",
     "output_type": "stream",
     "text": [
      "<class 'set'>\n"
     ]
    }
   ],
   "source": [
    "s=set()\n",
    "print(type(s))"
   ]
  },
  {
   "cell_type": "code",
   "execution_count": 43,
   "id": "7ff6eb4b-ff81-4923-8381-2334b1afba6b",
   "metadata": {},
   "outputs": [
    {
     "data": {
      "text/plain": [
       "{1, 2, 3, 4, 5, 6}"
      ]
     },
     "execution_count": 43,
     "metadata": {},
     "output_type": "execute_result"
    }
   ],
   "source": [
    "s"
   ]
  },
  {
   "cell_type": "code",
   "execution_count": 44,
   "id": "d62d88e9-2b22-42b0-a9a8-bafecec53d5b",
   "metadata": {},
   "outputs": [
    {
     "name": "stdout",
     "output_type": "stream",
     "text": [
      "1\n",
      "2\n",
      "3\n",
      "4\n",
      "5\n",
      "6\n"
     ]
    }
   ],
   "source": [
    "for i in s:\n",
    "    print(i)"
   ]
  },
  {
   "cell_type": "code",
   "execution_count": 45,
   "id": "2768dcf0-3f45-47cf-867c-b0f2d8b89f88",
   "metadata": {},
   "outputs": [
    {
     "name": "stdout",
     "output_type": "stream",
     "text": [
      "(0, 1)\n",
      "(1, 2)\n",
      "(2, 3)\n",
      "(3, 4)\n",
      "(4, 5)\n",
      "(5, 6)\n"
     ]
    }
   ],
   "source": [
    "for i in enumerate(s):\n",
    "    print(i)\n",
    "    "
   ]
  },
  {
   "cell_type": "markdown",
   "id": "9eaa1d24-db92-43f2-9006-b429f72b345f",
   "metadata": {},
   "source": [
    "**Add & remove items**"
   ]
  },
  {
   "cell_type": "code",
   "execution_count": 46,
   "id": "8ec1d902-5271-4282-9085-0622f7f701ba",
   "metadata": {},
   "outputs": [
    {
     "data": {
      "text/plain": [
       "{1, 2, 3, 4, 5, 6}"
      ]
     },
     "execution_count": 46,
     "metadata": {},
     "output_type": "execute_result"
    }
   ],
   "source": [
    "s"
   ]
  },
  {
   "cell_type": "code",
   "execution_count": 48,
   "id": "deb45465-07a8-420b-8fb9-4f028b7685a8",
   "metadata": {},
   "outputs": [
    {
     "data": {
      "text/plain": [
       "{1, 2, 3, 4, 5, 6, 7}"
      ]
     },
     "execution_count": 48,
     "metadata": {},
     "output_type": "execute_result"
    }
   ],
   "source": [
    "s.add(7)\n",
    "s\n"
   ]
  },
  {
   "cell_type": "code",
   "execution_count": 49,
   "id": "5dc18b63-0478-4941-9dde-37fb1ef4b1a8",
   "metadata": {},
   "outputs": [
    {
     "ename": "TypeError",
     "evalue": "'int' object is not iterable",
     "output_type": "error",
     "traceback": [
      "\u001b[1;31m---------------------------------------------------------------------------\u001b[0m",
      "\u001b[1;31mTypeError\u001b[0m                                 Traceback (most recent call last)",
      "Cell \u001b[1;32mIn[49], line 1\u001b[0m\n\u001b[1;32m----> 1\u001b[0m \u001b[43ms\u001b[49m\u001b[38;5;241;43m.\u001b[39;49m\u001b[43mupdate\u001b[49m\u001b[43m(\u001b[49m\u001b[38;5;241;43m10\u001b[39;49m\u001b[43m,\u001b[49m\u001b[38;5;241;43m20\u001b[39;49m\u001b[43m,\u001b[49m\u001b[38;5;241;43m30\u001b[39;49m\u001b[43m)\u001b[49m\n\u001b[0;32m      2\u001b[0m s\n",
      "\u001b[1;31mTypeError\u001b[0m: 'int' object is not iterable"
     ]
    }
   ],
   "source": [
    "s.update(10,20,30)\n",
    "s\n"
   ]
  },
  {
   "cell_type": "code",
   "execution_count": 52,
   "id": "9e08501c-e404-4c07-836b-30d8d3f98af3",
   "metadata": {},
   "outputs": [
    {
     "data": {
      "text/plain": [
       "{'eight', 'five', 'four', 'nine', 'one', 'seven', 'six', 'three', 'two'}"
      ]
     },
     "execution_count": 52,
     "metadata": {},
     "output_type": "execute_result"
    }
   ],
   "source": [
    "set={'one','two','three','four','five','six','seven','eight','nine'}\n",
    "set"
   ]
  },
  {
   "cell_type": "code",
   "execution_count": 53,
   "id": "a93e4899-af77-4117-b4a5-00ac698eb590",
   "metadata": {},
   "outputs": [],
   "source": [
    "set.update(['eleven','twelve','ten'])"
   ]
  },
  {
   "cell_type": "code",
   "execution_count": 54,
   "id": "2706091d-f4d4-4817-9564-673f6b76f3bb",
   "metadata": {},
   "outputs": [
    {
     "data": {
      "text/plain": [
       "{'eight',\n",
       " 'eleven',\n",
       " 'five',\n",
       " 'four',\n",
       " 'nine',\n",
       " 'one',\n",
       " 'seven',\n",
       " 'six',\n",
       " 'ten',\n",
       " 'three',\n",
       " 'twelve',\n",
       " 'two'}"
      ]
     },
     "execution_count": 54,
     "metadata": {},
     "output_type": "execute_result"
    }
   ],
   "source": [
    "set"
   ]
  },
  {
   "cell_type": "code",
   "execution_count": 55,
   "id": "f28e4991-9b4f-44f1-9ff0-8310c0d39d13",
   "metadata": {},
   "outputs": [],
   "source": [
    "set.remove('nine')"
   ]
  },
  {
   "cell_type": "code",
   "execution_count": 56,
   "id": "a09ab6d4-fa1b-41f2-9244-c111b2916ea2",
   "metadata": {},
   "outputs": [
    {
     "ename": "TypeError",
     "evalue": "set.pop() takes no arguments (1 given)",
     "output_type": "error",
     "traceback": [
      "\u001b[1;31m---------------------------------------------------------------------------\u001b[0m",
      "\u001b[1;31mTypeError\u001b[0m                                 Traceback (most recent call last)",
      "Cell \u001b[1;32mIn[56], line 1\u001b[0m\n\u001b[1;32m----> 1\u001b[0m \u001b[38;5;28;43mset\u001b[39;49m\u001b[38;5;241;43m.\u001b[39;49m\u001b[43mpop\u001b[49m\u001b[43m(\u001b[49m\u001b[38;5;241;43m3\u001b[39;49m\u001b[43m)\u001b[49m\n",
      "\u001b[1;31mTypeError\u001b[0m: set.pop() takes no arguments (1 given)"
     ]
    }
   ],
   "source": [
    "set.pop(3)"
   ]
  },
  {
   "cell_type": "code",
   "execution_count": 58,
   "id": "2831a107-cea4-4dc3-8351-594e5ef95630",
   "metadata": {},
   "outputs": [
    {
     "ename": "KeyError",
     "evalue": "'nine'",
     "output_type": "error",
     "traceback": [
      "\u001b[1;31m---------------------------------------------------------------------------\u001b[0m",
      "\u001b[1;31mKeyError\u001b[0m                                  Traceback (most recent call last)",
      "Cell \u001b[1;32mIn[58], line 1\u001b[0m\n\u001b[1;32m----> 1\u001b[0m \u001b[38;5;28;43mset\u001b[39;49m\u001b[38;5;241;43m.\u001b[39;49m\u001b[43mremove\u001b[49m\u001b[43m(\u001b[49m\u001b[38;5;124;43m'\u001b[39;49m\u001b[38;5;124;43mnine\u001b[39;49m\u001b[38;5;124;43m'\u001b[39;49m\u001b[43m)\u001b[49m\n",
      "\u001b[1;31mKeyError\u001b[0m: 'nine'"
     ]
    }
   ],
   "source": [
    "set.remove('nine')"
   ]
  },
  {
   "cell_type": "code",
   "execution_count": 59,
   "id": "6c5bf5a2-e04e-4f50-8110-e0eee62e1812",
   "metadata": {},
   "outputs": [],
   "source": [
    "set.discard('one')"
   ]
  },
  {
   "cell_type": "markdown",
   "id": "4daff5f1-4d94-43df-aef1-61687ca66ab9",
   "metadata": {},
   "source": [
    "# Set operation"
   ]
  },
  {
   "cell_type": "code",
   "execution_count": 60,
   "id": "9ec67572-50fc-4506-9054-902347cdc625",
   "metadata": {},
   "outputs": [],
   "source": [
    "a={1,2,3,4,5}\n",
    "b={4,5,6,7,8}\n",
    "c={8,9,10}\n"
   ]
  },
  {
   "cell_type": "code",
   "execution_count": 61,
   "id": "ef8f6fc5-9e29-4616-a505-16feba602e45",
   "metadata": {},
   "outputs": [
    {
     "data": {
      "text/plain": [
       "{1, 2, 3, 4, 5, 6, 7, 8}"
      ]
     },
     "execution_count": 61,
     "metadata": {},
     "output_type": "execute_result"
    }
   ],
   "source": [
    "a|b"
   ]
  },
  {
   "cell_type": "code",
   "execution_count": 62,
   "id": "4331a506-a784-4c46-bc6f-1715bf193037",
   "metadata": {},
   "outputs": [
    {
     "data": {
      "text/plain": [
       "{1, 2, 3, 6, 7, 8}"
      ]
     },
     "execution_count": 62,
     "metadata": {},
     "output_type": "execute_result"
    }
   ],
   "source": [
    "a^b"
   ]
  },
  {
   "cell_type": "code",
   "execution_count": 64,
   "id": "df951ddd-17e9-4dce-9a15-0bb7a507ed3a",
   "metadata": {},
   "outputs": [
    {
     "data": {
      "text/plain": [
       "{1, 2, 3, 4, 5}"
      ]
     },
     "execution_count": 64,
     "metadata": {},
     "output_type": "execute_result"
    }
   ],
   "source": [
    "a.union(b,c)\n",
    "a"
   ]
  },
  {
   "cell_type": "markdown",
   "id": "d59bb215-7920-4825-a681-8e1fbd5d835b",
   "metadata": {},
   "source": [
    "# Intersection"
   ]
  },
  {
   "cell_type": "code",
   "execution_count": 65,
   "id": "38553c05-d4c3-4a93-9bac-1b54832366f5",
   "metadata": {},
   "outputs": [],
   "source": [
    "a={1,2,3,4,5}\n",
    "b={4,5,6,7,8}\n"
   ]
  },
  {
   "cell_type": "code",
   "execution_count": 66,
   "id": "86637ee2-05a0-40c1-92be-4564b5800442",
   "metadata": {},
   "outputs": [
    {
     "data": {
      "text/plain": [
       "{4, 5}"
      ]
     },
     "execution_count": 66,
     "metadata": {},
     "output_type": "execute_result"
    }
   ],
   "source": [
    "a&b"
   ]
  },
  {
   "cell_type": "code",
   "execution_count": 67,
   "id": "d10e2cf9-e605-4880-809c-feb34d8e2321",
   "metadata": {},
   "outputs": [
    {
     "data": {
      "text/plain": [
       "{4, 5}"
      ]
     },
     "execution_count": 67,
     "metadata": {},
     "output_type": "execute_result"
    }
   ],
   "source": [
    "a.intersection(b)"
   ]
  },
  {
   "cell_type": "code",
   "execution_count": 68,
   "id": "37d8a8f3-df26-4f2c-9315-08247cb8c293",
   "metadata": {},
   "outputs": [
    {
     "data": {
      "text/plain": [
       "{1, 2, 3}"
      ]
     },
     "execution_count": 68,
     "metadata": {},
     "output_type": "execute_result"
    }
   ],
   "source": [
    "a-b"
   ]
  },
  {
   "cell_type": "code",
   "execution_count": 71,
   "id": "42a1cf56-a384-4fb1-b619-5d6394f4f81b",
   "metadata": {},
   "outputs": [
    {
     "data": {
      "text/plain": [
       "{1, 2, 3}"
      ]
     },
     "execution_count": 71,
     "metadata": {},
     "output_type": "execute_result"
    }
   ],
   "source": [
    "a.difference(b)"
   ]
  },
  {
   "cell_type": "code",
   "execution_count": 72,
   "id": "b9dece7a-c74e-4ac2-9ab0-41d5b894a213",
   "metadata": {},
   "outputs": [
    {
     "data": {
      "text/plain": [
       "{4, 5, 6, 7, 8}"
      ]
     },
     "execution_count": 72,
     "metadata": {},
     "output_type": "execute_result"
    }
   ],
   "source": [
    "b"
   ]
  },
  {
   "cell_type": "code",
   "execution_count": 73,
   "id": "27f327f0-6fc4-4e50-a508-94ae57ed68e8",
   "metadata": {},
   "outputs": [
    {
     "data": {
      "text/plain": [
       "{1, 2, 3, 4, 5}"
      ]
     },
     "execution_count": 73,
     "metadata": {},
     "output_type": "execute_result"
    }
   ],
   "source": [
    "a"
   ]
  },
  {
   "cell_type": "code",
   "execution_count": 74,
   "id": "7ee9d35c-7101-4325-b9ed-e4c83470ae85",
   "metadata": {},
   "outputs": [],
   "source": [
    "b.difference_update(a)"
   ]
  },
  {
   "cell_type": "code",
   "execution_count": 75,
   "id": "4bf68619-f024-4bc5-b0ae-87d841d08fe8",
   "metadata": {},
   "outputs": [
    {
     "data": {
      "text/plain": [
       "{6, 7, 8}"
      ]
     },
     "execution_count": 75,
     "metadata": {},
     "output_type": "execute_result"
    }
   ],
   "source": [
    "b"
   ]
  },
  {
   "cell_type": "markdown",
   "id": "f1e6cfff-8fac-4bd7-b4b0-9db48288e095",
   "metadata": {},
   "source": [
    "# Symmetric difference"
   ]
  },
  {
   "cell_type": "code",
   "execution_count": 76,
   "id": "e613ffe3-1f1a-40d8-9fe3-ccca45ff5156",
   "metadata": {},
   "outputs": [],
   "source": [
    "a={1,2,3,4,5}\n",
    "b={4,5,6,7,8}"
   ]
  },
  {
   "cell_type": "code",
   "execution_count": 77,
   "id": "fe217a20-7a73-41cb-b236-809dec5d79b2",
   "metadata": {},
   "outputs": [
    {
     "data": {
      "text/plain": [
       "{1, 2, 3, 6, 7, 8}"
      ]
     },
     "execution_count": 77,
     "metadata": {},
     "output_type": "execute_result"
    }
   ],
   "source": [
    "a^b"
   ]
  },
  {
   "cell_type": "code",
   "execution_count": 78,
   "id": "940e79de-55e5-40bb-9e9b-222101edbc75",
   "metadata": {},
   "outputs": [
    {
     "data": {
      "text/plain": [
       "True"
      ]
     },
     "execution_count": 78,
     "metadata": {},
     "output_type": "execute_result"
    }
   ],
   "source": [
    "a^b==a.symmetric_difference(b)"
   ]
  },
  {
   "cell_type": "code",
   "execution_count": 79,
   "id": "55c839a4-e9e1-49a0-8939-57b69864d31d",
   "metadata": {},
   "outputs": [
    {
     "data": {
      "text/plain": [
       "{1, 2, 3, 4, 5}"
      ]
     },
     "execution_count": 79,
     "metadata": {},
     "output_type": "execute_result"
    }
   ],
   "source": [
    "a"
   ]
  },
  {
   "cell_type": "markdown",
   "id": "ccf6305d-87e5-47d7-b836-c8b13ad0d423",
   "metadata": {},
   "source": [
    "# Subset,Superset & Disjoint"
   ]
  },
  {
   "cell_type": "code",
   "execution_count": 80,
   "id": "174e83d0-5060-4139-8587-828b7ebe21ef",
   "metadata": {},
   "outputs": [],
   "source": [
    "A = {1,2,3,4,5,6,7,8,9}\n",
    "B = {3,4,5,6,7,8}\n",
    "C = {10,20,30,40}\n"
   ]
  },
  {
   "cell_type": "code",
   "execution_count": 86,
   "id": "64aeac89-d0f4-4cfd-a328-d481b30aff65",
   "metadata": {},
   "outputs": [
    {
     "data": {
      "text/plain": [
       "True"
      ]
     },
     "execution_count": 86,
     "metadata": {},
     "output_type": "execute_result"
    }
   ],
   "source": [
    "B.issubset(A)"
   ]
  },
  {
   "cell_type": "code",
   "execution_count": 87,
   "id": "e952f9bc-eac7-4dcc-9999-52934bdc459f",
   "metadata": {},
   "outputs": [
    {
     "data": {
      "text/plain": [
       "True"
      ]
     },
     "execution_count": 87,
     "metadata": {},
     "output_type": "execute_result"
    }
   ],
   "source": [
    "A.issuperset(B)\n"
   ]
  },
  {
   "cell_type": "code",
   "execution_count": 88,
   "id": "ac816c27-cbc1-47f6-a237-b521336ab306",
   "metadata": {},
   "outputs": [
    {
     "data": {
      "text/plain": [
       "True"
      ]
     },
     "execution_count": 88,
     "metadata": {},
     "output_type": "execute_result"
    }
   ],
   "source": [
    "C.isdisjoint(A)"
   ]
  },
  {
   "cell_type": "code",
   "execution_count": 89,
   "id": "6a598311-d9cb-4f32-987c-4b004b765714",
   "metadata": {},
   "outputs": [
    {
     "data": {
      "text/plain": [
       "False"
      ]
     },
     "execution_count": 89,
     "metadata": {},
     "output_type": "execute_result"
    }
   ],
   "source": [
    "B.isdisjoint(A)"
   ]
  },
  {
   "cell_type": "code",
   "execution_count": 90,
   "id": "bf9f96b9-a5a4-4025-91f9-8d4aa3befd07",
   "metadata": {},
   "outputs": [
    {
     "data": {
      "text/plain": [
       "45"
      ]
     },
     "execution_count": 90,
     "metadata": {},
     "output_type": "execute_result"
    }
   ],
   "source": [
    "sum(A)"
   ]
  },
  {
   "cell_type": "code",
   "execution_count": 91,
   "id": "14bce86f-a777-4085-a3e7-c70b854c4e68",
   "metadata": {},
   "outputs": [
    {
     "data": {
      "text/plain": [
       "9"
      ]
     },
     "execution_count": 91,
     "metadata": {},
     "output_type": "execute_result"
    }
   ],
   "source": [
    "max(A)"
   ]
  },
  {
   "cell_type": "code",
   "execution_count": 92,
   "id": "a48c5e9b-21d5-4b91-9687-bbd36df6ef0b",
   "metadata": {},
   "outputs": [
    {
     "data": {
      "text/plain": [
       "1"
      ]
     },
     "execution_count": 92,
     "metadata": {},
     "output_type": "execute_result"
    }
   ],
   "source": [
    "min(A)"
   ]
  },
  {
   "cell_type": "code",
   "execution_count": 93,
   "id": "8ba11d0a-3f35-4399-8cb6-6857bcb4ffa4",
   "metadata": {},
   "outputs": [
    {
     "data": {
      "text/plain": [
       "9"
      ]
     },
     "execution_count": 93,
     "metadata": {},
     "output_type": "execute_result"
    }
   ],
   "source": [
    "len(A)"
   ]
  },
  {
   "cell_type": "code",
   "execution_count": 94,
   "id": "b6a7191f-5641-4aa0-afba-643a72944265",
   "metadata": {},
   "outputs": [
    {
     "data": {
      "text/plain": [
       "[(0, 1), (1, 2), (2, 3), (3, 4), (4, 5), (5, 6), (6, 7), (7, 8), (8, 9)]"
      ]
     },
     "execution_count": 94,
     "metadata": {},
     "output_type": "execute_result"
    }
   ],
   "source": [
    "list(enumerate(A))"
   ]
  },
  {
   "cell_type": "code",
   "execution_count": 95,
   "id": "7ccd6d1e-85ea-4f5c-982f-b9197733cad9",
   "metadata": {},
   "outputs": [
    {
     "data": {
      "text/plain": [
       "[9, 8, 7, 6, 5, 4, 3, 2, 1]"
      ]
     },
     "execution_count": 95,
     "metadata": {},
     "output_type": "execute_result"
    }
   ],
   "source": [
    "D=sorted(A,reverse=True)\n",
    "D"
   ]
  },
  {
   "cell_type": "code",
   "execution_count": 96,
   "id": "9d78ff70-69a9-4a08-a5f2-00fa877530e4",
   "metadata": {},
   "outputs": [
    {
     "data": {
      "text/plain": [
       "[1, 2, 3, 4, 5, 6, 7, 8, 9]"
      ]
     },
     "execution_count": 96,
     "metadata": {},
     "output_type": "execute_result"
    }
   ],
   "source": [
    "sorted(D)\n"
   ]
  },
  {
   "cell_type": "markdown",
   "id": "38c509c7-9cd6-46b8-adb0-edb08328104a",
   "metadata": {},
   "source": [
    "# Dictionary"
   ]
  },
  {
   "cell_type": "code",
   "execution_count": 97,
   "id": "6507dd32-155d-4a02-879d-ff4b1b12ea58",
   "metadata": {},
   "outputs": [
    {
     "data": {
      "text/plain": [
       "{}"
      ]
     },
     "execution_count": 97,
     "metadata": {},
     "output_type": "execute_result"
    }
   ],
   "source": [
    "dict=dict()\n",
    "dict"
   ]
  },
  {
   "cell_type": "code",
   "execution_count": 98,
   "id": "bbe69170-187c-4121-b752-3a65dad8296e",
   "metadata": {},
   "outputs": [
    {
     "data": {
      "text/plain": [
       "dict"
      ]
     },
     "execution_count": 98,
     "metadata": {},
     "output_type": "execute_result"
    }
   ],
   "source": [
    "type(dict)"
   ]
  },
  {
   "cell_type": "code",
   "execution_count": 101,
   "id": "d42befe6-0d08-4d9f-a4a8-4f6a9ff7fe98",
   "metadata": {},
   "outputs": [
    {
     "data": {
      "text/plain": [
       "{1: 'one', 2: 'two', 3: 'three'}"
      ]
     },
     "execution_count": 101,
     "metadata": {},
     "output_type": "execute_result"
    }
   ],
   "source": [
    "dict={1:'one',2:'two',3:'three'}\n",
    "dict"
   ]
  },
  {
   "cell_type": "code",
   "execution_count": 109,
   "id": "4343e1fb-b626-4e6a-bd5d-a29653d9c3e8",
   "metadata": {},
   "outputs": [
    {
     "data": {
      "text/plain": [
       "dict_keys([1, 2, 3])"
      ]
     },
     "execution_count": 109,
     "metadata": {},
     "output_type": "execute_result"
    }
   ],
   "source": [
    "dict.keys()"
   ]
  },
  {
   "cell_type": "code",
   "execution_count": 110,
   "id": "09a93d15-9d50-4cc9-9002-4b14f24dd2a6",
   "metadata": {},
   "outputs": [
    {
     "data": {
      "text/plain": [
       "dict_values(['one', 'two', 'three'])"
      ]
     },
     "execution_count": 110,
     "metadata": {},
     "output_type": "execute_result"
    }
   ],
   "source": [
    "dict.values()"
   ]
  },
  {
   "cell_type": "code",
   "execution_count": null,
   "id": "3348851c-de2e-4235-8243-1068ea8afc60",
   "metadata": {},
   "outputs": [],
   "source": []
  }
 ],
 "metadata": {
  "kernelspec": {
   "display_name": "Python 3 (ipykernel)",
   "language": "python",
   "name": "python3"
  },
  "language_info": {
   "codemirror_mode": {
    "name": "ipython",
    "version": 3
   },
   "file_extension": ".py",
   "mimetype": "text/x-python",
   "name": "python",
   "nbconvert_exporter": "python",
   "pygments_lexer": "ipython3",
   "version": "3.12.7"
  }
 },
 "nbformat": 4,
 "nbformat_minor": 5
}
