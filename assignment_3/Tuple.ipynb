{
 "cells": [
  {
   "cell_type": "markdown",
   "id": "944b05a0-aab0-44a2-ad60-e6b37e4b7116",
   "metadata": {},
   "source": [
    "# Tuple "
   ]
  },
  {
   "cell_type": "code",
   "execution_count": 1,
   "id": "17197a18-ba36-487b-9601-9bf38978aa35",
   "metadata": {},
   "outputs": [
    {
     "data": {
      "text/plain": [
       "()"
      ]
     },
     "execution_count": 1,
     "metadata": {},
     "output_type": "execute_result"
    }
   ],
   "source": [
    "t=() #creating empty tuple\n",
    "t"
   ]
  },
  {
   "cell_type": "code",
   "execution_count": 2,
   "id": "3e0b05d9-a252-4fa0-b33e-8afeb2f8b188",
   "metadata": {},
   "outputs": [
    {
     "data": {
      "text/plain": [
       "'apple'"
      ]
     },
     "execution_count": 2,
     "metadata": {},
     "output_type": "execute_result"
    }
   ],
   "source": [
    "t=('apple')\n",
    "t"
   ]
  },
  {
   "cell_type": "code",
   "execution_count": 4,
   "id": "04aba5f3-dbdb-4036-a7a8-50e402a24f82",
   "metadata": {},
   "outputs": [
    {
     "ename": "NameError",
     "evalue": "name 'apple' is not defined",
     "output_type": "error",
     "traceback": [
      "\u001b[1;31m---------------------------------------------------------------------------\u001b[0m",
      "\u001b[1;31mNameError\u001b[0m                                 Traceback (most recent call last)",
      "Cell \u001b[1;32mIn[4], line 1\u001b[0m\n\u001b[1;32m----> 1\u001b[0m t\u001b[38;5;241m=\u001b[39m(\u001b[43mapple\u001b[49m)\n\u001b[0;32m      2\u001b[0m t\n",
      "\u001b[1;31mNameError\u001b[0m: name 'apple' is not defined"
     ]
    }
   ],
   "source": [
    "t=(apple)\n",
    "t"
   ]
  },
  {
   "cell_type": "code",
   "execution_count": 13,
   "id": "8e378191-0732-4753-908b-29e140568e89",
   "metadata": {},
   "outputs": [
    {
     "data": {
      "text/plain": [
       "(10, 20, 30)"
      ]
     },
     "execution_count": 13,
     "metadata": {},
     "output_type": "execute_result"
    }
   ],
   "source": [
    "t=(10,20,30)\n",
    "t"
   ]
  },
  {
   "cell_type": "code",
   "execution_count": 6,
   "id": "f91796fc-e816-4707-9ea7-f1772fd652c2",
   "metadata": {},
   "outputs": [
    {
     "data": {
      "text/plain": [
       "(1, 2, (10, 20, 30))"
      ]
     },
     "execution_count": 6,
     "metadata": {},
     "output_type": "execute_result"
    }
   ],
   "source": [
    "nestedtuple=(1,2,(10,20,30))\n",
    "nestedtuple"
   ]
  },
  {
   "cell_type": "code",
   "execution_count": 7,
   "id": "773a95be-ed9f-4de2-a2fa-0b533793423c",
   "metadata": {},
   "outputs": [
    {
     "data": {
      "text/plain": [
       "3"
      ]
     },
     "execution_count": 7,
     "metadata": {},
     "output_type": "execute_result"
    }
   ],
   "source": [
    "len(nestedtuple)"
   ]
  },
  {
   "cell_type": "markdown",
   "id": "75b7bd11-ec00-4bcf-bb60-7f52b4eb13cc",
   "metadata": {},
   "source": [
    "# Tuple indexing"
   ]
  },
  {
   "cell_type": "code",
   "execution_count": 14,
   "id": "bb0daaa3-23cc-4ade-a9a8-dabc504617a0",
   "metadata": {},
   "outputs": [
    {
     "data": {
      "text/plain": [
       "(10, 20, 30)"
      ]
     },
     "execution_count": 14,
     "metadata": {},
     "output_type": "execute_result"
    }
   ],
   "source": [
    "t"
   ]
  },
  {
   "cell_type": "code",
   "execution_count": 15,
   "id": "8b949e5f-1b9d-4938-8a05-a8c064b18821",
   "metadata": {},
   "outputs": [
    {
     "data": {
      "text/plain": [
       "10"
      ]
     },
     "execution_count": 15,
     "metadata": {},
     "output_type": "execute_result"
    }
   ],
   "source": [
    "t[0]"
   ]
  },
  {
   "cell_type": "code",
   "execution_count": 16,
   "id": "6a0ca61e-b41a-42f5-9133-cb89c05bbf1d",
   "metadata": {},
   "outputs": [
    {
     "ename": "IndexError",
     "evalue": "tuple index out of range",
     "output_type": "error",
     "traceback": [
      "\u001b[1;31m---------------------------------------------------------------------------\u001b[0m",
      "\u001b[1;31mIndexError\u001b[0m                                Traceback (most recent call last)",
      "Cell \u001b[1;32mIn[16], line 1\u001b[0m\n\u001b[1;32m----> 1\u001b[0m \u001b[43mt\u001b[49m\u001b[43m[\u001b[49m\u001b[38;5;241;43m10\u001b[39;49m\u001b[43m]\u001b[49m\n",
      "\u001b[1;31mIndexError\u001b[0m: tuple index out of range"
     ]
    }
   ],
   "source": [
    "t[10]"
   ]
  },
  {
   "cell_type": "code",
   "execution_count": 17,
   "id": "9737c756-e75e-4029-b991-8a34cd813327",
   "metadata": {},
   "outputs": [
    {
     "ename": "TypeError",
     "evalue": "'tuple' object is not callable",
     "output_type": "error",
     "traceback": [
      "\u001b[1;31m---------------------------------------------------------------------------\u001b[0m",
      "\u001b[1;31mTypeError\u001b[0m                                 Traceback (most recent call last)",
      "Cell \u001b[1;32mIn[17], line 1\u001b[0m\n\u001b[1;32m----> 1\u001b[0m \u001b[43mt\u001b[49m\u001b[43m(\u001b[49m\u001b[38;5;241;43m0\u001b[39;49m\u001b[43m)\u001b[49m\n",
      "\u001b[1;31mTypeError\u001b[0m: 'tuple' object is not callable"
     ]
    }
   ],
   "source": [
    "t(0)"
   ]
  },
  {
   "cell_type": "code",
   "execution_count": 18,
   "id": "c6d3b0ec-0689-4b7c-931f-5db964073c55",
   "metadata": {},
   "outputs": [
    {
     "data": {
      "text/plain": [
       "('apple', 'banana', 'mango')"
      ]
     },
     "execution_count": 18,
     "metadata": {},
     "output_type": "execute_result"
    }
   ],
   "source": [
    "t1=('apple','banana','mango')\n",
    "t1"
   ]
  },
  {
   "cell_type": "code",
   "execution_count": 22,
   "id": "bd0180c6-2332-4951-944b-c040e628e365",
   "metadata": {},
   "outputs": [
    {
     "data": {
      "text/plain": [
       "('apple', 'banana', 'mango')"
      ]
     },
     "execution_count": 22,
     "metadata": {},
     "output_type": "execute_result"
    }
   ],
   "source": [
    "t1"
   ]
  },
  {
   "cell_type": "code",
   "execution_count": 23,
   "id": "254fca98-e311-4680-83f2-d008bef2fb26",
   "metadata": {},
   "outputs": [
    {
     "data": {
      "text/plain": [
       "'apple'"
      ]
     },
     "execution_count": 23,
     "metadata": {},
     "output_type": "execute_result"
    }
   ],
   "source": [
    "t1[0]"
   ]
  },
  {
   "cell_type": "code",
   "execution_count": 24,
   "id": "5444926f-a77e-4d03-9501-201d0e79d29d",
   "metadata": {},
   "outputs": [
    {
     "data": {
      "text/plain": [
       "'banana'"
      ]
     },
     "execution_count": 24,
     "metadata": {},
     "output_type": "execute_result"
    }
   ],
   "source": [
    "t1[1]"
   ]
  },
  {
   "cell_type": "code",
   "execution_count": 25,
   "id": "738560bd-b9f0-4655-9c1d-7b757316ce9d",
   "metadata": {},
   "outputs": [
    {
     "name": "stdout",
     "output_type": "stream",
     "text": [
      "b\n",
      "a\n",
      "n\n",
      "a\n",
      "n\n",
      "a\n"
     ]
    }
   ],
   "source": [
    "print(t1[1][0])\n",
    "print(t1[1][1])\n",
    "print(t1[1][2])\n",
    "print(t1[1][3])\n",
    "print(t1[1][4])\n",
    "print(t1[1][5])\n"
   ]
  },
  {
   "cell_type": "code",
   "execution_count": 26,
   "id": "516984cf-27d1-40fb-957f-ed42b8abc0c5",
   "metadata": {},
   "outputs": [
    {
     "data": {
      "text/plain": [
       "'mango'"
      ]
     },
     "execution_count": 26,
     "metadata": {},
     "output_type": "execute_result"
    }
   ],
   "source": [
    "t1[-1]"
   ]
  },
  {
   "cell_type": "markdown",
   "id": "b0caabb7-916e-4c97-86b7-e0865b4a892b",
   "metadata": {},
   "source": [
    "# Tuple Slicing"
   ]
  },
  {
   "cell_type": "code",
   "execution_count": 27,
   "id": "3f71f6cd-9eab-43ab-a79f-6f01c4814235",
   "metadata": {},
   "outputs": [
    {
     "data": {
      "text/plain": [
       "('one', 'two', 'three', 'four', 'five', 'six', 'seven', 'eight', 'nine')"
      ]
     },
     "execution_count": 27,
     "metadata": {},
     "output_type": "execute_result"
    }
   ],
   "source": [
    "t2=('one','two','three','four','five','six','seven','eight','nine')\n",
    "t2"
   ]
  },
  {
   "cell_type": "code",
   "execution_count": 28,
   "id": "6635493e-caa3-4d6a-b19c-453b94080f73",
   "metadata": {},
   "outputs": [
    {
     "data": {
      "text/plain": [
       "('one', 'two')"
      ]
     },
     "execution_count": 28,
     "metadata": {},
     "output_type": "execute_result"
    }
   ],
   "source": [
    "t2[:2]"
   ]
  },
  {
   "cell_type": "code",
   "execution_count": 29,
   "id": "76e7abd0-88b0-4a1b-8b94-6a5dad6ef956",
   "metadata": {},
   "outputs": [
    {
     "data": {
      "text/plain": [
       "('three', 'four', 'five', 'six', 'seven', 'eight', 'nine')"
      ]
     },
     "execution_count": 29,
     "metadata": {},
     "output_type": "execute_result"
    }
   ],
   "source": [
    "t2[2:]"
   ]
  },
  {
   "cell_type": "code",
   "execution_count": 30,
   "id": "98b23bfd-2d1c-479a-9b20-13ec23a03894",
   "metadata": {},
   "outputs": [
    {
     "data": {
      "text/plain": [
       "'seven'"
      ]
     },
     "execution_count": 30,
     "metadata": {},
     "output_type": "execute_result"
    }
   ],
   "source": [
    "t2[-3]"
   ]
  },
  {
   "cell_type": "code",
   "execution_count": 31,
   "id": "b95d4a41-58cc-4eb0-8205-8c35c411464c",
   "metadata": {},
   "outputs": [
    {
     "data": {
      "text/plain": [
       "('one', 'two', 'three', 'four', 'five', 'six', 'seven', 'eight', 'nine')"
      ]
     },
     "execution_count": 31,
     "metadata": {},
     "output_type": "execute_result"
    }
   ],
   "source": [
    "t2"
   ]
  },
  {
   "cell_type": "code",
   "execution_count": 32,
   "id": "a43e793e-614f-434b-bc54-c7803abc7c8e",
   "metadata": {},
   "outputs": [
    {
     "data": {
      "text/plain": [
       "'seven'"
      ]
     },
     "execution_count": 32,
     "metadata": {},
     "output_type": "execute_result"
    }
   ],
   "source": [
    "t2[-3]"
   ]
  },
  {
   "cell_type": "markdown",
   "id": "a9299c45-ef17-48e5-9fd2-25de87e356a3",
   "metadata": {},
   "source": [
    "# Remove and change tuple"
   ]
  },
  {
   "cell_type": "code",
   "execution_count": 34,
   "id": "16de2f4c-1238-4190-80cc-e10992e54f4d",
   "metadata": {},
   "outputs": [
    {
     "ename": "TypeError",
     "evalue": "'tuple' object does not support item assignment",
     "output_type": "error",
     "traceback": [
      "\u001b[1;31m---------------------------------------------------------------------------\u001b[0m",
      "\u001b[1;31mTypeError\u001b[0m                                 Traceback (most recent call last)",
      "Cell \u001b[1;32mIn[34], line 1\u001b[0m\n\u001b[1;32m----> 1\u001b[0m \u001b[43mt2\u001b[49m\u001b[43m[\u001b[49m\u001b[38;5;241;43m1\u001b[39;49m\u001b[43m]\u001b[49m\u001b[38;5;241m=\u001b[39m\u001b[38;5;241m2\u001b[39m\n",
      "\u001b[1;31mTypeError\u001b[0m: 'tuple' object does not support item assignment"
     ]
    }
   ],
   "source": [
    "t2[1]=2"
   ]
  },
  {
   "cell_type": "code",
   "execution_count": 35,
   "id": "198a06e6-5a78-46c4-9982-ba3c8f4dd22c",
   "metadata": {},
   "outputs": [],
   "source": [
    "t3=t2"
   ]
  },
  {
   "cell_type": "code",
   "execution_count": 36,
   "id": "f76dc8cb-7ea2-4985-bcbf-b5ae75b86e53",
   "metadata": {},
   "outputs": [
    {
     "data": {
      "text/plain": [
       "('one', 'two', 'three', 'four', 'five', 'six', 'seven', 'eight', 'nine')"
      ]
     },
     "execution_count": 36,
     "metadata": {},
     "output_type": "execute_result"
    }
   ],
   "source": [
    "t3"
   ]
  },
  {
   "cell_type": "code",
   "execution_count": 39,
   "id": "a56faca3-401b-4762-9e1e-09d641ff53d1",
   "metadata": {},
   "outputs": [],
   "source": [
    "del t3"
   ]
  },
  {
   "cell_type": "markdown",
   "id": "d96bff43-bf3e-46a3-9c8f-53fa7d4b1ca1",
   "metadata": {},
   "source": [
    "# Loop through tuple\n"
   ]
  },
  {
   "cell_type": "code",
   "execution_count": 43,
   "id": "120bab23-29e8-4712-a1ac-3cf3391372a7",
   "metadata": {},
   "outputs": [
    {
     "name": "stdout",
     "output_type": "stream",
     "text": [
      "one\n",
      "two\n",
      "three\n",
      "four\n",
      "five\n",
      "six\n",
      "seven\n",
      "eight\n",
      "nine\n"
     ]
    }
   ],
   "source": [
    "for i in t2:\n",
    "    print(i)"
   ]
  },
  {
   "cell_type": "code",
   "execution_count": 44,
   "id": "717149df-02eb-4da2-a984-8503849dd2f3",
   "metadata": {},
   "outputs": [
    {
     "name": "stdout",
     "output_type": "stream",
     "text": [
      "(0, 'one')\n",
      "(1, 'two')\n",
      "(2, 'three')\n",
      "(3, 'four')\n",
      "(4, 'five')\n",
      "(5, 'six')\n",
      "(6, 'seven')\n",
      "(7, 'eight')\n",
      "(8, 'nine')\n"
     ]
    }
   ],
   "source": [
    "for i in enumerate(t2):\n",
    "    print(i)"
   ]
  },
  {
   "cell_type": "code",
   "execution_count": 45,
   "id": "b4df1cfe-c218-40a1-ad2d-80884603adb2",
   "metadata": {},
   "outputs": [
    {
     "data": {
      "text/plain": [
       "('one', 'two', 'three', 'four', 'five', 'six', 'seven', 'eight', 'nine')"
      ]
     },
     "execution_count": 45,
     "metadata": {},
     "output_type": "execute_result"
    }
   ],
   "source": [
    "t2"
   ]
  },
  {
   "cell_type": "code",
   "execution_count": 46,
   "id": "d56faa36-4b5e-4599-9c71-861de0558418",
   "metadata": {},
   "outputs": [
    {
     "data": {
      "text/plain": [
       "True"
      ]
     },
     "execution_count": 46,
     "metadata": {},
     "output_type": "execute_result"
    }
   ],
   "source": [
    "'five' in t2"
   ]
  },
  {
   "cell_type": "code",
   "execution_count": 47,
   "id": "203b6a86-32ad-44d6-9f98-16da5d87d314",
   "metadata": {},
   "outputs": [
    {
     "data": {
      "text/plain": [
       "False"
      ]
     },
     "execution_count": 47,
     "metadata": {},
     "output_type": "execute_result"
    }
   ],
   "source": [
    "'test' in t2"
   ]
  },
  {
   "cell_type": "code",
   "execution_count": 48,
   "id": "0c50a218-781b-40c9-a48d-93a52138cae6",
   "metadata": {},
   "outputs": [
    {
     "name": "stdout",
     "output_type": "stream",
     "text": [
      "Not Found the item in Tuple\n"
     ]
    }
   ],
   "source": [
    "if 'eleven' in t2:\n",
    "    print('Found the item in Tuple')\n",
    "else:\n",
    "    print('Not Found the item in Tuple')"
   ]
  },
  {
   "cell_type": "markdown",
   "id": "d8fdaad9-ff23-44c3-b39f-bb8778566ea3",
   "metadata": {},
   "source": [
    "# Index position in Tuple\n"
   ]
  },
  {
   "cell_type": "code",
   "execution_count": 49,
   "id": "fbea6e6b-f805-452f-be9c-b31374c67a23",
   "metadata": {},
   "outputs": [
    {
     "data": {
      "text/plain": [
       "('one', 'two', 'three', 'four', 'five', 'six', 'seven', 'eight', 'nine')"
      ]
     },
     "execution_count": 49,
     "metadata": {},
     "output_type": "execute_result"
    }
   ],
   "source": [
    "t2"
   ]
  },
  {
   "cell_type": "code",
   "execution_count": 50,
   "id": "daa224d5-9f25-4d56-8b6c-5f8f8860f200",
   "metadata": {},
   "outputs": [
    {
     "data": {
      "text/plain": [
       "3"
      ]
     },
     "execution_count": 50,
     "metadata": {},
     "output_type": "execute_result"
    }
   ],
   "source": [
    "t2.index('four')\n"
   ]
  },
  {
   "cell_type": "code",
   "execution_count": 51,
   "id": "c840e86b-40cb-475e-8d30-401e9e6186fc",
   "metadata": {},
   "outputs": [
    {
     "data": {
      "text/plain": [
       "5"
      ]
     },
     "execution_count": 51,
     "metadata": {},
     "output_type": "execute_result"
    }
   ],
   "source": [
    "t2.index('six')"
   ]
  },
  {
   "cell_type": "markdown",
   "id": "bd66749a-9466-4c25-96fe-f7fbd436abae",
   "metadata": {},
   "source": [
    "# Sorting"
   ]
  },
  {
   "cell_type": "code",
   "execution_count": 52,
   "id": "ae5cd838-3d5e-4706-af7c-17cf5b6c6178",
   "metadata": {},
   "outputs": [
    {
     "data": {
      "text/plain": [
       "['eight', 'five', 'four', 'nine', 'one', 'seven', 'six', 'three', 'two']"
      ]
     },
     "execution_count": 52,
     "metadata": {},
     "output_type": "execute_result"
    }
   ],
   "source": [
    "sorted(t2, reverse=False)"
   ]
  },
  {
   "cell_type": "code",
   "execution_count": 53,
   "id": "fd675983-7c1d-4159-b0a4-ec68b692e0e4",
   "metadata": {},
   "outputs": [
    {
     "data": {
      "text/plain": [
       "['two', 'three', 'six', 'seven', 'one', 'nine', 'four', 'five', 'eight']"
      ]
     },
     "execution_count": 53,
     "metadata": {},
     "output_type": "execute_result"
    }
   ],
   "source": [
    "sorted(t2, reverse=True)"
   ]
  },
  {
   "cell_type": "code",
   "execution_count": 54,
   "id": "d21d1748-c00d-48a4-a3c1-2ead9290a72e",
   "metadata": {},
   "outputs": [
    {
     "data": {
      "text/plain": [
       "('one', 'two', 'three', 'four', 'five', 'six', 'seven', 'eight', 'nine')"
      ]
     },
     "execution_count": 54,
     "metadata": {},
     "output_type": "execute_result"
    }
   ],
   "source": [
    "t2"
   ]
  },
  {
   "cell_type": "code",
   "execution_count": null,
   "id": "abe1f0a6-d495-4bde-8c5c-67b7cda5286f",
   "metadata": {},
   "outputs": [],
   "source": []
  }
 ],
 "metadata": {
  "kernelspec": {
   "display_name": "Python 3 (ipykernel)",
   "language": "python",
   "name": "python3"
  },
  "language_info": {
   "codemirror_mode": {
    "name": "ipython",
    "version": 3
   },
   "file_extension": ".py",
   "mimetype": "text/x-python",
   "name": "python",
   "nbconvert_exporter": "python",
   "pygments_lexer": "ipython3",
   "version": "3.12.7"
  }
 },
 "nbformat": 4,
 "nbformat_minor": 5
}
